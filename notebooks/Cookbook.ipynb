{
 "cells": [
  {
   "cell_type": "markdown",
   "metadata": {},
   "source": [
    "# Table of Contents\n",
    "1. [IO](#io)\n",
    "2. [Example2](#example2)\n",
    "3. [Third Example](#third-example)\n",
    "4. [Fourth Example](#fourth-examplehttpwwwfourthexamplecom)\n"
   ]
  },
  {
   "cell_type": "markdown",
   "metadata": {},
   "source": [
    "# Nanome Receipes\n",
    "\n",
    "This cookbook aims to give short, self-contained, runnable code samples to perform common tasks that would be assembled into a larger script. This document is a work in progress. Our Python API is extremely extensive and we’ll continue to add to the recipes here each release."
   ]
  },
  {
   "cell_type": "markdown",
   "metadata": {},
   "source": [
    "# IO <a name=\"io\"></a>"
   ]
  },
  {
   "cell_type": "markdown",
   "metadata": {},
   "source": [
    "Run this to connect your plugins to to Nanome's DEV NTS server.\n"
   ]
  },
  {
   "cell_type": "code",
   "execution_count": 1,
   "metadata": {},
   "outputs": [
    {
     "data": {
      "text/plain": [
       "True"
      ]
     },
     "execution_count": 1,
     "metadata": {},
     "output_type": "execute_result"
    }
   ],
   "source": [
    "import nanome\n",
    "\n",
    "nanome.util.config.set('host', 'plugins.nanome.ai')\n",
    "nanome.util.config.set('port', 9999)"
   ]
  },
  {
   "cell_type": "markdown",
   "metadata": {},
   "source": [
    "## Read the structures in a file"
   ]
  },
  {
   "cell_type": "markdown",
   "metadata": {},
   "source": [
    "Use the <a href='https://github.com/nanome-ai/nanome-lib/blob/76e600faaa797e5774616e5df9d5e9c9a88dd0ec/nanome/api/structure/io/complex_io.py#L5'>io</a> attribute on the Complex model to read from a file. We support file formats `.mmcif`, `.pdb`, `.sdf`"
   ]
  },
  {
   "cell_type": "code",
   "execution_count": null,
   "metadata": {},
   "outputs": [],
   "source": [
    "from nanome.api.structure import Complex\n",
    "\n",
    "# Read using filepath\n",
    "input_dir = 'assets/cookbook/benzene_241.sdf'\n",
    "comp = Complex.io.from_sdf(path=input_dir)\n",
    "\n",
    "# benzenes contain 12 atoms\n",
    "assert len(list(comp.molecules)) == 1\n",
    "assert len(list(comp.atoms)) == 12\n"
   ]
  },
  {
   "cell_type": "markdown",
   "metadata": {},
   "source": [
    "## Read the structures in a file, starting at the nth structure entry"
   ]
  },
  {
   "cell_type": "code",
   "execution_count": null,
   "metadata": {},
   "outputs": [],
   "source": [
    "\"\"\"TODO.\"\"\""
   ]
  },
  {
   "cell_type": "markdown",
   "metadata": {},
   "source": [
    "## Read the first structure in a file"
   ]
  },
  {
   "cell_type": "code",
   "execution_count": null,
   "metadata": {},
   "outputs": [],
   "source": [
    "\"\"\"TODO.\"\"\""
   ]
  },
  {
   "cell_type": "markdown",
   "metadata": {},
   "source": [
    "## Read the nth structure in a file"
   ]
  },
  {
   "cell_type": "markdown",
   "metadata": {},
   "source": [
    "The <code class=\"xref py py-obj docutils literal notranslate\"><span class=\"pre\">read</span></code> method takes an optional (1-based) <code class=\"xref py py-obj docutils literal notranslate\"><span class=\"pre\">index</span></code> argument."
   ]
  },
  {
   "cell_type": "code",
   "execution_count": null,
   "metadata": {},
   "outputs": [],
   "source": [
    "\"\"\"TODO.\"\"\""
   ]
  },
  {
   "cell_type": "markdown",
   "metadata": {},
   "source": [
    "## Write a structure to a file"
   ]
  },
  {
   "cell_type": "code",
   "execution_count": null,
   "metadata": {},
   "outputs": [],
   "source": [
    "\"\"\"Read in sdf, and write structure to pdb file.\"\"\"\n",
    "\n",
    "import tempfile\n",
    "from nanome.api.structure import Complex\n",
    "\n",
    "# Read using filepath\n",
    "input_dir = 'assets/cookbook/benzene_241.sdf'\n",
    "comp = Complex.io.from_sdf(path=input_dir)\n",
    "\n",
    "# Write complex to new pdb file\n",
    "temp_pdb_file = tempfile.NamedTemporaryFile(delete=False, suffix='.pdb')\n",
    "comp.io.to_pdb(temp_pdb_file.name)\n",
    "with open(temp_pdb_file.name, 'r') as f:\n",
    "    print(f.read())"
   ]
  },
  {
   "cell_type": "markdown",
   "metadata": {},
   "source": [
    "## Write several structures to a file"
   ]
  },
  {
   "cell_type": "code",
   "execution_count": null,
   "metadata": {},
   "outputs": [],
   "source": [
    "\"\"\"TODO.\"\"\""
   ]
  },
  {
   "cell_type": "markdown",
   "metadata": {},
   "source": [
    "## Sort a structure file"
   ]
  },
  {
   "cell_type": "code",
   "execution_count": null,
   "metadata": {},
   "outputs": [],
   "source": [
    "\"\"\"TODO.\"\"\""
   ]
  },
  {
   "cell_type": "markdown",
   "metadata": {},
   "source": [
    "# Structures\n",
    "\n",
    "We're defining Structures as classes coming from nanome.api.structures.\n",
    "\n",
    "    - Workspace\n",
    "    - —-Complex\n",
    "    - ——– Molecule\n",
    "    - ————– Chain\n",
    "    - ——————– Residue\n",
    "    - ————————– Atom\n",
    "    - ————————– Bond\n",
    "\n"
   ]
  },
  {
   "cell_type": "markdown",
   "metadata": {},
   "source": [
    "## Get the name of a Complex"
   ]
  },
  {
   "cell_type": "code",
   "execution_count": null,
   "metadata": {},
   "outputs": [],
   "source": [
    "from nanome.api.structure import Complex\n",
    "\n",
    "# Read using filepath\n",
    "input_dir = 'assets/cookbook/benzene_241.sdf'\n",
    "comp = Complex.io.from_sdf(path=input_dir)\n",
    "comp.name = 'Benzene'\n",
    "\n",
    "print(comp.name)\n",
    "\n"
   ]
  },
  {
   "cell_type": "markdown",
   "metadata": {},
   "source": [
    "## Get the attributes of a Complex"
   ]
  },
  {
   "cell_type": "code",
   "execution_count": null,
   "metadata": {},
   "outputs": [],
   "source": [
    "from nanome.api.structure import Complex\n",
    "\n",
    "# Read using filepath\n",
    "input_dir = 'assets/cookbook/benzene_241.sdf'\n",
    "comp = Complex.io.from_sdf(path=input_dir)\n",
    "comp.name = 'Benzene'\n",
    "\n",
    "comp.name\n",
    "comp.molecules\n",
    "comp.chains\n",
    "comp.residues\n",
    "comp.atoms\n"
   ]
  },
  {
   "cell_type": "markdown",
   "metadata": {},
   "source": [
    "## View all the current properties for an atom or structure"
   ]
  },
  {
   "cell_type": "code",
   "execution_count": null,
   "metadata": {},
   "outputs": [],
   "source": [
    "\"\"\"TODO.\"\"\""
   ]
  },
  {
   "cell_type": "markdown",
   "metadata": {},
   "source": [
    "## Add a property to an atom"
   ]
  },
  {
   "cell_type": "markdown",
   "metadata": {},
   "source": [
    "It is common for us to add arbitrary data to our structures. "
   ]
  },
  {
   "cell_type": "code",
   "execution_count": null,
   "metadata": {},
   "outputs": [],
   "source": [
    "from nanome.api.structure import Complex\n",
    "\n",
    "# Read using filepath\n",
    "input_dir = 'assets/cookbook/benzene_241.sdf'\n",
    "comp = Complex.io.from_sdf(path=input_dir)\n",
    "\n",
    "comp.new_property = 'blah blah blah'\n",
    "print(comp.new_property)\n"
   ]
  },
  {
   "cell_type": "markdown",
   "metadata": {},
   "source": [
    "## Get the attributes of an atom"
   ]
  },
  {
   "cell_type": "code",
   "execution_count": null,
   "metadata": {},
   "outputs": [],
   "source": [
    "\n",
    "from nanome.api.structure import Complex\n",
    "\n",
    "input_dir = 'assets/cookbook/benzene_241.sdf'\n",
    "comp = Complex.io.from_sdf(path=input_dir)\n",
    "atom = next(comp.atoms)\n",
    "\n",
    "atom.acceptor\n",
    "atom.atom_color\n",
    "atom.atom_mode\n",
    "atom.atom_rendering\n",
    "atom.atom_scale\n",
    "atom.bfactor\n",
    "atom.bonds\n",
    "atom.chain\n",
    "atom.complex\n",
    "atom.conformer_count\n",
    "atom.current_conformer\n",
    "atom.donor\n",
    "atom.exists\n",
    "atom.formal_charge\n",
    "atom.in_conformer\n",
    "atom.index\n",
    "atom.is_het\n",
    "atom.label_text\n",
    "atom.labeled\n",
    "atom.molecule\n",
    "atom.name\n",
    "atom.occupancy\n",
    "atom.partial_charge\n",
    "atom.position\n",
    "atom.positions\n",
    "atom.residue\n",
    "atom.selected\n",
    "atom.serial\n",
    "atom.surface_color\n",
    "atom.surface_opacity\n",
    "atom.surface_rendering\n",
    "atom.symbol\n"
   ]
  },
  {
   "cell_type": "markdown",
   "metadata": {},
   "source": [
    "## Get the index of an atom in a structure\n",
    "\n",
    "the `index` field is used on Nanome objects to uniquely identify objects inside the application. For newly created objects not yet sent to the app, index defaults to -1, after the object is saved an index will be assigned"
   ]
  },
  {
   "cell_type": "code",
   "execution_count": null,
   "metadata": {},
   "outputs": [],
   "source": [
    "from nanome.api.structure import Complex"
   ]
  },
  {
   "cell_type": "code",
   "execution_count": null,
   "metadata": {},
   "outputs": [],
   "source": [
    "\n",
    "input_dir = 'assets/cookbook/benzene_241.sdf'\n",
    "comp = Complex.io.from_sdf(path=input_dir)\n",
    "atom = next(comp.atoms)\n",
    "\n",
    "atom.index"
   ]
  },
  {
   "cell_type": "markdown",
   "metadata": {},
   "source": [
    "## Find all the atoms bonded to a given atom"
   ]
  },
  {
   "cell_type": "code",
   "execution_count": null,
   "metadata": {},
   "outputs": [],
   "source": [
    "from nanome.api.structure import Complex\n",
    "\n",
    "# Get list of atoms bonded to selected one\n",
    "input_dir = 'assets/cookbook/benzene_241.sdf'\n",
    "comp = Complex.io.from_sdf(path=input_dir)\n",
    "atom = next(comp.atoms)\n",
    "\n",
    "atom_set = set()\n",
    "for bond in atom.bonds:\n",
    "    atom_set.add(bond.atom1)\n",
    "    atom_set.add(bond.atom2)\n",
    "atom_set.remove(atom)\n",
    "print(atom_set)\n",
    "assert len(atom_set) == len(list(atom.bonds))"
   ]
  },
  {
   "cell_type": "markdown",
   "metadata": {},
   "source": [
    "## Determine the type of an atom bond\n",
    "\n",
    "We use the `bond.kind` attribute, which is an enum of possible bond types.\n",
    "Details [here](https://nanome.readthedocs.io/en/latest/nanome.util.enums.html#nanome.util.enums.Kind)\n",
    "- Unknown = 0\n",
    "- CovalentSingle = 1\n",
    "- CovalentDouble = 2\n",
    "- CovalentTriple = 3\n",
    "- Aromatic = 4\n",
    "\n"
   ]
  },
  {
   "cell_type": "code",
   "execution_count": null,
   "metadata": {},
   "outputs": [],
   "source": [
    "from nanome.api.structure import Complex\n",
    "\n",
    "input_dir = 'assets/cookbook/benzene_241.sdf'\n",
    "comp = Complex.io.from_sdf(path=input_dir)\n",
    "bond = next(comp.bonds)\n",
    "print(bond.kind)"
   ]
  },
  {
   "cell_type": "markdown",
   "metadata": {},
   "source": [
    "## Read protein residue order for each chain"
   ]
  },
  {
   "cell_type": "code",
   "execution_count": null,
   "metadata": {},
   "outputs": [],
   "source": [
    "\"\"\"Read in sdf, and write structure to pdb file.\"\"\"\n",
    "\n",
    "import tempfile\n",
    "from nanome.api.structure import Complex\n",
    "\n",
    "# Read using filepath\n",
    "input_dir = 'assets/cookbook/benzene_241.sdf'\n",
    "comp = Complex.io.from_sdf(path=input_dir)\n",
    "\n",
    "# Write complex to new pdb file\n",
    "temp_pdb_file = tempfile.NamedTemporaryFile(delete=False, suffix='.pdb')\n",
    "comp.io.to_pdb(temp_pdb_file.name)\n",
    "with open(temp_pdb_file.name, 'r') as f:\n",
    "    print(f.read())"
   ]
  },
  {
   "cell_type": "markdown",
   "metadata": {},
   "source": [
    "## Find all the bonds in a structure"
   ]
  },
  {
   "cell_type": "code",
   "execution_count": null,
   "metadata": {},
   "outputs": [],
   "source": [
    "from nanome.api.structure import Complex\n",
    "\n",
    "input_dir = 'assets/cookbook/benzene_241.sdf'\n",
    "comp = Complex.io.from_sdf(path=input_dir)\n",
    "\n",
    "import pdb; pdb.set_trace()\n",
    "print(list(comp.bonds))\n"
   ]
  },
  {
   "cell_type": "markdown",
   "metadata": {},
   "source": [
    "## Find all the residues in a structure"
   ]
  },
  {
   "cell_type": "code",
   "execution_count": null,
   "metadata": {},
   "outputs": [],
   "source": [
    "from nanome.api.structure import Complex\n"
   ]
  },
  {
   "cell_type": "markdown",
   "metadata": {},
   "source": [
    "## Determine if a residue is connected to another residue"
   ]
  },
  {
   "cell_type": "code",
   "execution_count": null,
   "metadata": {},
   "outputs": [],
   "source": [
    "\"\"\"TODO.\"\"\""
   ]
  },
  {
   "cell_type": "markdown",
   "metadata": {},
   "source": [
    "## Find all the molecules in a Complex"
   ]
  },
  {
   "cell_type": "code",
   "execution_count": null,
   "metadata": {},
   "outputs": [],
   "source": [
    "\"\"\"TODO.\"\"\""
   ]
  },
  {
   "cell_type": "markdown",
   "metadata": {},
   "source": [
    "## Get a residue in a structure by Chain and Resnum"
   ]
  },
  {
   "cell_type": "code",
   "execution_count": null,
   "metadata": {},
   "outputs": [],
   "source": [
    "\"\"\"TODO.\"\"\""
   ]
  },
  {
   "cell_type": "markdown",
   "metadata": {},
   "source": [
    "## Find all the molecules in a structure"
   ]
  },
  {
   "cell_type": "code",
   "execution_count": null,
   "metadata": {},
   "outputs": [],
   "source": [
    "\"\"\"TODO.\"\"\""
   ]
  },
  {
   "cell_type": "markdown",
   "metadata": {},
   "source": [
    "## Extract a given mol into its own structure"
   ]
  },
  {
   "cell_type": "code",
   "execution_count": null,
   "metadata": {},
   "outputs": [],
   "source": [
    "\"\"\"TODO.\"\"\""
   ]
  },
  {
   "cell_type": "markdown",
   "metadata": {},
   "source": [
    "# Properties"
   ]
  },
  {
   "cell_type": "code",
   "execution_count": null,
   "metadata": {},
   "outputs": [],
   "source": [
    "Note"
   ]
  },
  {
   "cell_type": "markdown",
   "metadata": {},
   "source": [
    "Properties can be viewed in the Project Table as well as interacted\n",
    "with programmatically."
   ]
  },
  {
   "cell_type": "markdown",
   "metadata": {},
   "source": [
    "## Retrieve a property defined on a structure or atom"
   ]
  },
  {
   "cell_type": "code",
   "execution_count": null,
   "metadata": {},
   "outputs": [],
   "source": [
    "\"\"\"TODO.\"\"\""
   ]
  },
  {
   "cell_type": "markdown",
   "metadata": {},
   "source": [
    "## Atom based measurements: distance, angle, and dihedral values"
   ]
  },
  {
   "cell_type": "code",
   "execution_count": null,
   "metadata": {},
   "outputs": [],
   "source": [
    "\"\"\"TODO.\"\"\""
   ]
  },
  {
   "cell_type": "markdown",
   "metadata": {},
   "source": [
    "# Ligands"
   ]
  },
  {
   "cell_type": "markdown",
   "metadata": {},
   "source": [
    "## Find the ligands in a  structure"
   ]
  },
  {
   "cell_type": "markdown",
   "metadata": {},
   "source": [
    "The rules for ligand detection can be edited in the Maestro preferences."
   ]
  },
  {
   "cell_type": "code",
   "execution_count": null,
   "metadata": {},
   "outputs": [],
   "source": [
    "\"\"\"TODO.\"\"\""
   ]
  },
  {
   "cell_type": "markdown",
   "metadata": {},
   "source": [
    "# Atom Selection Language"
   ]
  },
  {
   "cell_type": "markdown",
   "metadata": {},
   "source": [
    "## Given a residue, generate ASL for it"
   ]
  },
  {
   "cell_type": "code",
   "execution_count": null,
   "metadata": {},
   "outputs": [],
   "source": [
    "\"\"\"TODO.\"\"\""
   ]
  },
  {
   "cell_type": "markdown",
   "metadata": {},
   "source": [
    "## Given a structure and a list of atoms in the structure, generate ASL for the atoms"
   ]
  },
  {
   "cell_type": "code",
   "execution_count": null,
   "metadata": {},
   "outputs": [],
   "source": [
    "\"\"\"TODO.\"\"\""
   ]
  },
  {
   "cell_type": "markdown",
   "metadata": {
    "tags": []
   },
   "source": [
    "## Given a structure and an ASL expression, return a list of indices of matching atoms"
   ]
  },
  {
   "cell_type": "code",
   "execution_count": null,
   "metadata": {},
   "outputs": [],
   "source": [
    "\"\"\"TODO.\"\"\""
   ]
  },
  {
   "cell_type": "markdown",
   "metadata": {},
   "source": [
    "## Find and delete all water atoms in a structure"
   ]
  },
  {
   "cell_type": "code",
   "execution_count": null,
   "metadata": {},
   "outputs": [],
   "source": [
    "\"\"\"TODO.\"\"\""
   ]
  },
  {
   "cell_type": "markdown",
   "metadata": {},
   "source": [
    "## Find all the atoms in proteins"
   ]
  },
  {
   "cell_type": "code",
   "execution_count": null,
   "metadata": {},
   "outputs": [],
   "source": [
    "\"\"\"TODO.\"\"\""
   ]
  },
  {
   "cell_type": "markdown",
   "metadata": {},
   "source": [
    "# Measurement"
   ]
  },
  {
   "cell_type": "markdown",
   "metadata": {},
   "source": [
    "## Atom based measurements: distance, angle, and dihedral values"
   ]
  },
  {
   "cell_type": "code",
   "execution_count": null,
   "metadata": {},
   "outputs": [],
   "source": [
    "\"\"\"TODO.\"\"\""
   ]
  },
  {
   "cell_type": "markdown",
   "metadata": {},
   "source": [
    "## Get all atoms within n Ångströms of a collection of atoms"
   ]
  },
  {
   "cell_type": "code",
   "execution_count": null,
   "metadata": {},
   "outputs": [],
   "source": [
    "\"\"\"TODO.\"\"\""
   ]
  },
  {
   "cell_type": "markdown",
   "metadata": {},
   "source": [
    "## Find the centroid of a structure"
   ]
  },
  {
   "cell_type": "code",
   "execution_count": null,
   "metadata": {},
   "outputs": [],
   "source": [
    "\"\"\"TODO.\"\"\""
   ]
  },
  {
   "cell_type": "markdown",
   "metadata": {},
   "source": [
    "# Structure Comparison"
   ]
  },
  {
   "cell_type": "markdown",
   "metadata": {},
   "source": [
    "We often want to know whether two structures are the same, but the criteria for\n",
    "‘sameness’ can vary in different cases. Below are a few different ways of\n",
    "comparing structures."
   ]
  },
  {
   "cell_type": "markdown",
   "metadata": {},
   "source": [
    "## Determine if structures are equal"
   ]
  },
  {
   "cell_type": "markdown",
   "metadata": {},
   "source": [
    "Structures are only ‘equal’ if they refer to the exact same object."
   ]
  },
  {
   "cell_type": "code",
   "execution_count": null,
   "metadata": {},
   "outputs": [],
   "source": [
    "\"\"\"TODO.\"\"\""
   ]
  },
  {
   "cell_type": "markdown",
   "metadata": {},
   "source": [
    "## Determine if two structures are tautomers"
   ]
  },
  {
   "cell_type": "markdown",
   "metadata": {},
   "source": [
    "Determine if two structures have the same heavy-atom (non-Hydrogen atoms) connectivity.\n",
    "Bond orders may be different."
   ]
  },
  {
   "cell_type": "code",
   "execution_count": null,
   "metadata": {},
   "outputs": [],
   "source": [
    "\"\"\"TODO.\"\"\""
   ]
  },
  {
   "cell_type": "markdown",
   "metadata": {},
   "source": [
    "## Determine if two structures are enantiomers"
   ]
  },
  {
   "cell_type": "markdown",
   "metadata": {},
   "source": [
    "Determine if two structures are stereoisomers that are non-identical mirror images of each other.\n",
    "The result is atom order independent."
   ]
  },
  {
   "cell_type": "code",
   "execution_count": null,
   "metadata": {},
   "outputs": [],
   "source": [
    "\"\"\"TODO.\"\"\""
   ]
  },
  {
   "cell_type": "markdown",
   "metadata": {},
   "source": [
    "## Superimpose one structure on another"
   ]
  },
  {
   "cell_type": "code",
   "execution_count": null,
   "metadata": {},
   "outputs": [],
   "source": [
    "\"\"\"TODO.\"\"\""
   ]
  },
  {
   "cell_type": "markdown",
   "metadata": {},
   "source": [
    "# Modifying and Building Structures"
   ]
  },
  {
   "cell_type": "markdown",
   "metadata": {},
   "source": [
    "## Delete atoms in a structure"
   ]
  },
  {
   "cell_type": "code",
   "execution_count": null,
   "metadata": {},
   "outputs": [],
   "source": [
    "\"\"\"TODO.\"\"\""
   ]
  },
  {
   "cell_type": "markdown",
   "metadata": {},
   "source": [
    "## Mutate a residue in a structure"
   ]
  },
  {
   "cell_type": "code",
   "execution_count": null,
   "metadata": {},
   "outputs": [],
   "source": [
    "\"\"\"TODO.\"\"\""
   ]
  },
  {
   "cell_type": "markdown",
   "metadata": {},
   "source": [
    "## Add Hydrogens to a structure"
   ]
  },
  {
   "cell_type": "code",
   "execution_count": null,
   "metadata": {},
   "outputs": [],
   "source": [
    "\"\"\"TODO.\"\"\""
   ]
  },
  {
   "cell_type": "markdown",
   "metadata": {},
   "source": [
    "## Neutralize a structure"
   ]
  },
  {
   "cell_type": "code",
   "execution_count": null,
   "metadata": {},
   "outputs": [],
   "source": [
    "\"\"\"TODO.\"\"\""
   ]
  },
  {
   "cell_type": "markdown",
   "metadata": {},
   "source": [
    "## Desalt a structure"
   ]
  },
  {
   "cell_type": "code",
   "execution_count": null,
   "metadata": {},
   "outputs": [],
   "source": [
    "\"\"\"TODO.\"\"\""
   ]
  },
  {
   "cell_type": "markdown",
   "metadata": {},
   "source": [
    "# Data Conversions"
   ]
  },
  {
   "cell_type": "markdown",
   "metadata": {},
   "source": [
    "## Convert between a structure and an RDKit mol"
   ]
  },
  {
   "cell_type": "code",
   "execution_count": null,
   "metadata": {},
   "outputs": [],
   "source": [
    "\"\"\"TODO.\"\"\""
   ]
  },
  {
   "cell_type": "markdown",
   "metadata": {},
   "source": [
    "## Convert a 3D structure to 2D and 1D representations"
   ]
  },
  {
   "cell_type": "code",
   "execution_count": null,
   "metadata": {},
   "outputs": [],
   "source": [
    "\"\"\"TODO.\"\"\""
   ]
  },
  {
   "cell_type": "markdown",
   "metadata": {},
   "source": [
    "## Extract 2D structure and generate 3D coordinates"
   ]
  },
  {
   "cell_type": "code",
   "execution_count": null,
   "metadata": {},
   "outputs": [],
   "source": [
    "\"\"\"TODO.\"\"\""
   ]
  },
  {
   "cell_type": "markdown",
   "metadata": {},
   "source": [
    "## Generate a canonical SMILES for a structure"
   ]
  },
  {
   "cell_type": "code",
   "execution_count": null,
   "metadata": {},
   "outputs": [],
   "source": [
    "\"\"\"TODO.\"\"\""
   ]
  },
  {
   "cell_type": "markdown",
   "metadata": {},
   "source": [
    "## Get a 2D structure from a SMILES representation"
   ]
  },
  {
   "cell_type": "code",
   "execution_count": null,
   "metadata": {},
   "outputs": [],
   "source": [
    "\"\"\"TODO.\"\"\""
   ]
  },
  {
   "cell_type": "markdown",
   "metadata": {},
   "source": [
    "## Get a 3D structure from a SMILES representation"
   ]
  },
  {
   "cell_type": "code",
   "execution_count": null,
   "metadata": {},
   "outputs": [],
   "source": [
    "\"\"\"TODO.\"\"\""
   ]
  }
 ],
 "metadata": {
  "kernelspec": {
   "display_name": "Python 3",
   "language": "python",
   "name": "python3"
  },
  "language_info": {
   "codemirror_mode": {
    "name": "ipython",
    "version": 3
   },
   "file_extension": ".py",
   "mimetype": "text/x-python",
   "name": "python",
   "nbconvert_exporter": "python",
   "pygments_lexer": "ipython3",
   "version": "3.7.10"
  },
  "toc-autonumbering": false,
  "toc-showcode": false,
  "toc-showmarkdowntxt": false,
  "toc-showtags": true
 },
 "nbformat": 4,
 "nbformat_minor": 4
}
