{
 "cells": [
  {
   "cell_type": "code",
   "execution_count": null,
   "id": "381bc757-d397-4a2f-b9ef-74dd0def85ba",
   "metadata": {},
   "outputs": [],
   "source": [
    "from nanome.service import PluginService\n",
    "from nanome.interface import PluginInstanceRedisInterface\n",
    "\n",
    "# Set up redis credentials\n",
    "redis_host = 'redis'\n",
    "redis_port = 6379\n",
    "redis_password = ''\n",
    "\n",
    "# When your PluginService is running, you can get your channel value from the Logs, or from the query parameter in your open browser.\n",
    "# Update this value to match that, so that your commands will run against your live workspace.\n",
    "redis_channel = 'a5100bcd-3b33-48dc-a8b0-67f88182f24e'\n",
    "\n",
    "plugin_instance = PluginInstanceRedisInterface(redis_host, redis_port, redis_password, redis_channel)\n",
    "print('Hello')"
   ]
  },
  {
   "cell_type": "code",
   "execution_count": null,
   "id": "8b82a3ae-c281-4cb9-9435-7dd57b0407ef",
   "metadata": {
    "tags": []
   },
   "outputs": [],
   "source": [
    "comps = plugin_instance.request_complex_list()\n",
    "print(comps)"
   ]
  },
  {
   "cell_type": "code",
   "execution_count": null,
   "id": "c49cf1cb-5c08-4842-a029-3c14e6a9cc6d",
   "metadata": {},
   "outputs": [],
   "source": [
    "# neo4j setup\n",
    "from py2neo import Graph, Node, Relationship\n",
    "\n",
    "neo4j_uri = 'bolt://neo4j:7687/'\n",
    "username = 'neo4j'\n",
    "password = 'F8dwclytew'\n",
    "graph = Graph(neo4j_uri, auth=(username, password))\n"
   ]
  },
  {
   "cell_type": "code",
   "execution_count": null,
   "id": "0bee5a56-0f91-4736-8801-0fe2e041e0f1",
   "metadata": {},
   "outputs": [],
   "source": [
    "# Create neo4j database\n",
    "with open(\"assets/neo4j_movie_graph_query.txt\") as f:\n",
    "    query_string = f.read()\n",
    "results = graph.run(query_string)\n",
    "data = results.data()"
   ]
  },
  {
   "cell_type": "code",
   "execution_count": null,
   "id": "f9df97db-41dd-49de-a57a-9ea8c7986e66",
   "metadata": {},
   "outputs": [],
   "source": [
    "from nanome.api import structure\n",
    "from nanome.util import Vector3, Color\n",
    "\n",
    "def create_node_complex(node, atom_position):\n",
    "    comp = structure.Complex()\n",
    "    mol = structure.Molecule()\n",
    "    chain = structure.Chain()\n",
    "    res = structure.Residue()\n",
    "    atom = structure.Atom()\n",
    "\n",
    "    atom.position = atom_position\n",
    "    atom.labeled = True\n",
    "    \n",
    "    label_text = ''\n",
    "    if node.labels.__str__() == ':Movie':\n",
    "        # Movie node\n",
    "        label_text = node['title']\n",
    "        atom.atom_color = Color(0, 255, 0)\n",
    "    else:\n",
    "        # Person Node\n",
    "        label_text = node['name']\n",
    "    atom.label_text = label_text\n",
    "    res.add_atom(atom)\n",
    "    chain.add_residue(res)\n",
    "    mol.add_chain(chain)\n",
    "    comp.add_molecule(mol)\n",
    "    comp.name = atom.label_text\n",
    "    return comp\n",
    "\n",
    "# comp_nodes = []\n",
    "# position = Vector3(0, 0, 0)\n",
    "# for record in data:\n",
    "#     node = record['n']\n",
    "#     new_comp = create_node_complex(node, position)\n",
    "#     position = Vector3(position.x + 1, position.y + 1, position.z + 1)\n",
    "#     comp_nodes.append(new_comp)\n",
    "# results = plugin_instance.update_structures_deep(comp_nodes)"
   ]
  },
  {
   "cell_type": "code",
   "execution_count": null,
   "id": "ad447668-0881-49ce-b2f2-991e80ca6ed6",
   "metadata": {},
   "outputs": [],
   "source": [
    "import nanome\n",
    "from nanome.api.shapes import Label, Line, Shape\n",
    "\n",
    "def draw_relationship_line(struct1, struct2):\n",
    "    \"\"\"Draw line connecting two structs.\n",
    "\n",
    "    :arg struct1: struct\n",
    "    :arg struct2: struct\n",
    "    :arg line_settings: Dict describing shape and color of line based on interaction_type\n",
    "    \"\"\"\n",
    "    line = Line()\n",
    "    for struct, anchor in zip([struct1, struct2], line.anchors):\n",
    "        anchor.anchor_type = nanome.util.enums.ShapeAnchorType.Atom\n",
    "        anchor.target = struct.index\n",
    "    return line\n",
    "    "
   ]
  },
  {
   "cell_type": "code",
   "execution_count": 12,
   "id": "a97f7341-a740-47c3-b61b-7eeb951d5e75",
   "metadata": {},
   "outputs": [
    {
     "name": "stdout",
     "output_type": "stream",
     "text": [
      "\u001b[0mSending add_to_workspace Request to Redis Channel a5100bcd-3b33-48dc-a8b0-67f88182f24e\u001b[0m\n",
      "\u001b[0mResponse received on channel 37c424c6-5213-4676-bb04-29354897869c\u001b[0m\n",
      "\u001b[0mSending add_to_workspace Request to Redis Channel a5100bcd-3b33-48dc-a8b0-67f88182f24e\u001b[0m\n",
      "\u001b[0mResponse received on channel e763a40a-de17-4139-900c-f8f087288c38\u001b[0m\n"
     ]
    },
    {
     "ename": "StopIteration",
     "evalue": "",
     "output_type": "error",
     "traceback": [
      "\u001b[0;31m\u001b[0m",
      "\u001b[0;31mStopIteration\u001b[0mTraceback (most recent call last)",
      "\u001b[0;32m<ipython-input-12-c47e319226bd>\u001b[0m in \u001b[0;36m<module>\u001b[0;34m\u001b[0m\n\u001b[1;32m     25\u001b[0m             \u001b[0mcomp_nodes\u001b[0m\u001b[0;34m.\u001b[0m\u001b[0mappend\u001b[0m\u001b[0;34m(\u001b[0m\u001b[0mcreated_comp\u001b[0m\u001b[0;34m)\u001b[0m\u001b[0;34m\u001b[0m\u001b[0;34m\u001b[0m\u001b[0m\n\u001b[1;32m     26\u001b[0m         \u001b[0;32melse\u001b[0m\u001b[0;34m:\u001b[0m\u001b[0;34m\u001b[0m\u001b[0;34m\u001b[0m\u001b[0m\n\u001b[0;32m---> 27\u001b[0;31m             \u001b[0mcomp\u001b[0m \u001b[0;34m=\u001b[0m \u001b[0mnext\u001b[0m\u001b[0;34m(\u001b[0m\u001b[0mcomp_node\u001b[0m \u001b[0;32mfor\u001b[0m \u001b[0mcomp_node\u001b[0m \u001b[0;32min\u001b[0m \u001b[0mcomp_nodes\u001b[0m \u001b[0;32mif\u001b[0m \u001b[0mcomp\u001b[0m\u001b[0;34m.\u001b[0m\u001b[0mname\u001b[0m \u001b[0;34m==\u001b[0m \u001b[0mlabel_text\u001b[0m\u001b[0;34m)\u001b[0m\u001b[0;34m\u001b[0m\u001b[0;34m\u001b[0m\u001b[0m\n\u001b[0m\u001b[1;32m     28\u001b[0m             \u001b[0mpath_comp_nodes\u001b[0m\u001b[0;34m.\u001b[0m\u001b[0mappend\u001b[0m\u001b[0;34m(\u001b[0m\u001b[0mcomp\u001b[0m\u001b[0;34m)\u001b[0m\u001b[0;34m\u001b[0m\u001b[0;34m\u001b[0m\u001b[0m\n\u001b[1;32m     29\u001b[0m         \u001b[0mposition\u001b[0m \u001b[0;34m=\u001b[0m \u001b[0mVector3\u001b[0m\u001b[0;34m(\u001b[0m\u001b[0mposition\u001b[0m\u001b[0;34m.\u001b[0m\u001b[0mx\u001b[0m \u001b[0;34m+\u001b[0m \u001b[0;36m1\u001b[0m\u001b[0;34m,\u001b[0m \u001b[0mposition\u001b[0m\u001b[0;34m.\u001b[0m\u001b[0my\u001b[0m \u001b[0;34m+\u001b[0m \u001b[0;36m1\u001b[0m\u001b[0;34m,\u001b[0m \u001b[0mposition\u001b[0m\u001b[0;34m.\u001b[0m\u001b[0mz\u001b[0m \u001b[0;34m+\u001b[0m \u001b[0;36m1\u001b[0m\u001b[0;34m)\u001b[0m\u001b[0;34m\u001b[0m\u001b[0;34m\u001b[0m\u001b[0m\n",
      "\u001b[0;31mStopIteration\u001b[0m: "
     ]
    }
   ],
   "source": [
    "result = graph.run(\"MATCH p=()-[r:ACTED_IN]->() RETURN p LIMIT 25\")\n",
    "\n",
    "position = Vector3(0, 0, 0)\n",
    "comp_nodes = []\n",
    "lines = []\n",
    "\n",
    "for record in result:\n",
    "    path = record['p']\n",
    "    nodes = path.nodes\n",
    "    rels = path.relationships    \n",
    "    for node in nodes:\n",
    "        node_uuid = node.__uuid__\n",
    "\n",
    "        label_text = ''\n",
    "        if node.labels.__str__() == ':Movie':\n",
    "            # Movie node\n",
    "            label_text = node['title']\n",
    "        else:\n",
    "            # Person Node\n",
    "            label_text = node['name']\n",
    "\n",
    "        if label_text not in [comp.name for comp in comp_nodes]:\n",
    "            comp = create_node_complex(node, position)\n",
    "            created_comp = plugin_instance.add_to_workspace([comp])[0]\n",
    "            comp_nodes.append(created_comp)\n",
    "            position = Vector3(position.x + 1, position.y + 1, position.z + 1)\n",
    "\n",
    "#     line = draw_relationship_line(next(path_comp_nodes[0].atoms), next(path_comp_nodes[1].atoms))\n",
    "#     lines.append(line)\n",
    "# plugin_instance.upload_shapes(lines)\n"
   ]
  },
  {
   "cell_type": "code",
   "execution_count": null,
   "id": "c36dd374-6569-4eae-bc8d-a22881200f6a",
   "metadata": {},
   "outputs": [],
   "source": [
    "c\n"
   ]
  }
 ],
 "metadata": {
  "kernelspec": {
   "display_name": "Python 3",
   "language": "python",
   "name": "python3"
  },
  "language_info": {
   "codemirror_mode": {
    "name": "ipython",
    "version": 3
   },
   "file_extension": ".py",
   "mimetype": "text/x-python",
   "name": "python",
   "nbconvert_exporter": "python",
   "pygments_lexer": "ipython3",
   "version": "3.9.2"
  }
 },
 "nbformat": 4,
 "nbformat_minor": 5
}
