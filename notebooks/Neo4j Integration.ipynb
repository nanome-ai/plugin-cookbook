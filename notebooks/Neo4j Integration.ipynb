{
 "cells": [
  {
   "cell_type": "code",
   "execution_count": null,
   "id": "381bc757-d397-4a2f-b9ef-74dd0def85ba",
   "metadata": {},
   "outputs": [],
   "source": [
    "from nanome.service import PluginService\n",
    "from nanome.interface import PluginInstanceRedisInterface\n",
    "\n",
    "# Set up redis credentials\n",
    "redis_host = 'redis'\n",
    "redis_port = 6379\n",
    "\n",
    "# When your PluginService is running, you can get your channel value from the Logs, or from the query parameter in your open browser.\n",
    "# Update this value to match that, so that your commands will run against your live workspace.\n",
    "redis_channel = 'a5100bcd-3b33-48dc-a8b0-67f88182f24e'\n",
    "\n",
    "plugin_instance = PluginInstanceRedisInterface(redis_host, redis_port, redis_channel)\n",
    "print('Hello')"
   ]
  },
  {
   "cell_type": "code",
   "execution_count": null,
   "id": "8b82a3ae-c281-4cb9-9435-7dd57b0407ef",
   "metadata": {
    "tags": []
   },
   "outputs": [],
   "source": [
    "comps = plugin_instance.request_complex_list()\n",
    "comp = comps[0]\n",
    "print(comp)\n"
   ]
  },
  {
   "cell_type": "code",
   "execution_count": null,
   "id": "0a07c480-b68a-41d0-b60e-ec333f932dd4",
   "metadata": {},
   "outputs": [],
   "source": [
    "pip install py2neo"
   ]
  },
  {
   "cell_type": "code",
   "execution_count": null,
   "id": "c49cf1cb-5c08-4842-a029-3c14e6a9cc6d",
   "metadata": {},
   "outputs": [],
   "source": [
    "# neo4j setup\n",
    "from py2neo import Graph, Node, Relationship\n",
    "\n",
    "neo4j_uri = 'bolt://neo4j:7687/'\n",
    "username = 'neo4j'\n",
    "password = 'F8dwclytew'\n",
    "graph = Graph(neo4j_uri, auth=(username, password))\n"
   ]
  },
  {
   "cell_type": "code",
   "execution_count": null,
   "id": "0bee5a56-0f91-4736-8801-0fe2e041e0f1",
   "metadata": {},
   "outputs": [],
   "source": [
    "with open(\"assets/neo4j_query.txt\") as f:\n",
    "    query_string = f.read()\n",
    "results = graph.run(query_string)\n",
    "data = results.data()"
   ]
  },
  {
   "cell_type": "code",
   "execution_count": null,
   "id": "36a753e4-76de-46bc-b3bc-1cab8eeee503",
   "metadata": {},
   "outputs": [],
   "source": [
    "from nanome.api.shapes import Shape, Sphere\n",
    "from nanome.utils import Color\n",
    "sphere = Sphere()\n",
    "sphere.radius = 5\n",
    "sphere.color = Color(255, 0, 0, 100)\n",
    "sphere = plugin_instance.upload_shapes([sphere])"
   ]
  },
  {
   "cell_type": "code",
   "execution_count": null,
   "id": "319f99e5-5952-4230-8a04-4852975678cd",
   "metadata": {},
   "outputs": [],
   "source": [
    "query = 'MATCH (n) RETURN n LIMIT 25'\n",
    "results = graph.run(query)\n",
    "data = results.data()"
   ]
  },
  {
   "cell_type": "code",
   "execution_count": null,
   "id": "878b49a6-138e-480c-8ea0-9580cefdee0a",
   "metadata": {},
   "outputs": [],
   "source": [
    "from nanome.api.structure import Atom\n",
    "\n",
    "atom_list = []\n",
    "for record in data:\n",
    "    node = record['n']\n",
    "    label = node['name']\n",
    "    print(label)\n",
    "    atom = Atom()\n",
    "    atom.labeled = True\n",
    "    atom.label_text = label\n",
    "    atom.name = node.__uuid__\n",
    "    atom_list.append(atom)"
   ]
  },
  {
   "cell_type": "code",
   "execution_count": null,
   "id": "f9df97db-41dd-49de-a57a-9ea8c7986e66",
   "metadata": {},
   "outputs": [],
   "source": [
    "from nanome.api import structure\n",
    "comp = structure.Complex()\n",
    "mol = structure.Molecule()\n",
    "chain = structure.Chain()\n",
    "res = structure.Residue()\n",
    "\n",
    "counter = 0\n",
    "for atom in atom_list:\n",
    "    print(atom.label_text)\n",
    "    atom.position.x = counter\n",
    "    res.add_atom(atom)\n",
    "    counter += 1\n",
    "\n",
    "chain.add_residue(res)\n",
    "mol.add_chain(chain)\n",
    "comp.add_molecule(mol)\n",
    "\n",
    "results = plugin_instance.update_structures_deep([comp])"
   ]
  },
  {
   "cell_type": "code",
   "execution_count": null,
   "id": "ad447668-0881-49ce-b2f2-991e80ca6ed6",
   "metadata": {},
   "outputs": [],
   "source": []
  }
 ],
 "metadata": {
  "kernelspec": {
   "display_name": "Python 3",
   "language": "python",
   "name": "python3"
  },
  "language_info": {
   "codemirror_mode": {
    "name": "ipython",
    "version": 3
   },
   "file_extension": ".py",
   "mimetype": "text/x-python",
   "name": "python",
   "nbconvert_exporter": "python",
   "pygments_lexer": "ipython3",
   "version": "3.9.2"
  }
 },
 "nbformat": 4,
 "nbformat_minor": 5
}
