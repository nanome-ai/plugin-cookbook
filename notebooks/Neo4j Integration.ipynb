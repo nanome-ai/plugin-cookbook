{
 "cells": [
  {
   "cell_type": "code",
   "execution_count": 1,
   "id": "381bc757-d397-4a2f-b9ef-74dd0def85ba",
   "metadata": {},
   "outputs": [
    {
     "name": "stdout",
     "output_type": "stream",
     "text": [
      "Hello\n"
     ]
    }
   ],
   "source": [
    "from nanome.service import PluginService\n",
    "from nanome.interface import PluginInstanceRedisInterface\n",
    "\n",
    "# Set up redis credentials\n",
    "redis_host = 'redis'\n",
    "redis_port = 6379\n",
    "\n",
    "# When your PluginService is running, you can get your channel value from the Logs, or from the query parameter in your open browser.\n",
    "# Update this value to match that, so that your commands will run against your live workspace.\n",
    "redis_channel = '3c07503c-4fc5-4a36-ab23-3aed541ee453'\n",
    "\n",
    "plugin_instance = PluginInstanceRedisInterface(redis_host, redis_port, redis_channel)\n",
    "print('Hello')"
   ]
  },
  {
   "cell_type": "code",
   "execution_count": 5,
   "id": "8b82a3ae-c281-4cb9-9435-7dd57b0407ef",
   "metadata": {
    "tags": []
   },
   "outputs": [
    {
     "name": "stdout",
     "output_type": "stream",
     "text": [
      "\u001b[0mSending request_complex_list Request to Redis Channel 3c07503c-4fc5-4a36-ab23-3aed541ee453\u001b[0m\n",
      "\u001b[0mResponse received on channel 6db266e0-7499-44f4-a9e8-7a3c863e3934\u001b[0m\n",
      "<nanome.api.structure.complex.Complex object at 0x7fa5bcb04130>\n"
     ]
    }
   ],
   "source": [
    "comps = plugin_instance.request_complex_list()\n",
    "comp = comps[0]\n",
    "print(comp)\n"
   ]
  },
  {
   "cell_type": "code",
   "execution_count": 3,
   "id": "0a07c480-b68a-41d0-b60e-ec333f932dd4",
   "metadata": {},
   "outputs": [
    {
     "name": "stdout",
     "output_type": "stream",
     "text": [
      "Requirement already satisfied: py2neo in /opt/conda/lib/python3.9/site-packages (2021.2.3)\n",
      "Requirement already satisfied: packaging in /opt/conda/lib/python3.9/site-packages (from py2neo) (20.9)\n",
      "Requirement already satisfied: monotonic in /opt/conda/lib/python3.9/site-packages (from py2neo) (1.6)\n",
      "Requirement already satisfied: certifi in /opt/conda/lib/python3.9/site-packages (from py2neo) (2020.12.5)\n",
      "Requirement already satisfied: pygments>=2.0.0 in /opt/conda/lib/python3.9/site-packages (from py2neo) (2.9.0)\n",
      "Requirement already satisfied: six>=1.15.0 in /opt/conda/lib/python3.9/site-packages (from py2neo) (1.16.0)\n",
      "Requirement already satisfied: urllib3 in /opt/conda/lib/python3.9/site-packages (from py2neo) (1.26.4)\n",
      "Requirement already satisfied: interchange~=2021.0.4 in /opt/conda/lib/python3.9/site-packages (from py2neo) (2021.0.4)\n",
      "Requirement already satisfied: pansi>=2020.7.3 in /opt/conda/lib/python3.9/site-packages (from py2neo) (2020.7.3)\n",
      "Requirement already satisfied: pytz in /opt/conda/lib/python3.9/site-packages (from interchange~=2021.0.4->py2neo) (2021.1)\n",
      "Requirement already satisfied: pyparsing>=2.0.2 in /opt/conda/lib/python3.9/site-packages (from packaging->py2neo) (2.4.7)\n",
      "Note: you may need to restart the kernel to use updated packages.\n"
     ]
    }
   ],
   "source": [
    "pip install py2neo"
   ]
  },
  {
   "cell_type": "code",
   "execution_count": 11,
   "id": "c49cf1cb-5c08-4842-a029-3c14e6a9cc6d",
   "metadata": {},
   "outputs": [],
   "source": [
    "# neo4j setup\n",
    "from py2neo import Graph, Node, Relationship\n",
    "\n",
    "neo4j_uri = 'bolt://neo4j:7687/'\n",
    "username = 'neo4j'\n",
    "password = 'F8dwclytew'\n",
    "graph = Graph(neo4j_uri, auth=(username, password))\n"
   ]
  },
  {
   "cell_type": "code",
   "execution_count": 12,
   "id": "0bee5a56-0f91-4736-8801-0fe2e041e0f1",
   "metadata": {},
   "outputs": [],
   "source": [
    "with open(\"assets/neo4j_query.txt\") as f:\n",
    "    query_string = f.read()\n",
    "results = graph.run(query_string)\n",
    "data = results.data()"
   ]
  },
  {
   "cell_type": "code",
   "execution_count": null,
   "id": "6328139a-7a18-4155-a494-d36c32ac04c1",
   "metadata": {},
   "outputs": [],
   "source": []
  },
  {
   "cell_type": "code",
   "execution_count": 2,
   "id": "e96e5ce8-5815-4232-8f9e-e42b72111b08",
   "metadata": {},
   "outputs": [
    {
     "ename": "NameError",
     "evalue": "name 'data' is not defined",
     "output_type": "error",
     "traceback": [
      "\u001b[0;31m\u001b[0m",
      "\u001b[0;31mNameError\u001b[0mTraceback (most recent call last)",
      "\u001b[0;32m<ipython-input-2-e387cffff04a>\u001b[0m in \u001b[0;36m<module>\u001b[0;34m\u001b[0m\n\u001b[1;32m      2\u001b[0m \u001b[0;34m\u001b[0m\u001b[0m\n\u001b[1;32m      3\u001b[0m \u001b[0matom_list\u001b[0m \u001b[0;34m=\u001b[0m \u001b[0;34m[\u001b[0m\u001b[0;34m]\u001b[0m\u001b[0;34m\u001b[0m\u001b[0;34m\u001b[0m\u001b[0m\n\u001b[0;32m----> 4\u001b[0;31m \u001b[0;32mfor\u001b[0m \u001b[0mrecord\u001b[0m \u001b[0;32min\u001b[0m \u001b[0mdata\u001b[0m\u001b[0;34m:\u001b[0m\u001b[0;34m\u001b[0m\u001b[0;34m\u001b[0m\u001b[0m\n\u001b[0m\u001b[1;32m      5\u001b[0m     \u001b[0mnode\u001b[0m \u001b[0;34m=\u001b[0m \u001b[0mrecord\u001b[0m\u001b[0;34m[\u001b[0m\u001b[0;34m'a'\u001b[0m\u001b[0;34m]\u001b[0m\u001b[0;34m\u001b[0m\u001b[0;34m\u001b[0m\u001b[0m\n\u001b[1;32m      6\u001b[0m     \u001b[0mprint\u001b[0m\u001b[0;34m(\u001b[0m\u001b[0mnext\u001b[0m\u001b[0;34m(\u001b[0m\u001b[0miter\u001b[0m\u001b[0;34m(\u001b[0m\u001b[0mnode\u001b[0m\u001b[0;34m.\u001b[0m\u001b[0mvalues\u001b[0m\u001b[0;34m(\u001b[0m\u001b[0;34m)\u001b[0m\u001b[0;34m)\u001b[0m\u001b[0;34m)\u001b[0m\u001b[0;34m)\u001b[0m\u001b[0;34m\u001b[0m\u001b[0;34m\u001b[0m\u001b[0m\n",
      "\u001b[0;31mNameError\u001b[0m: name 'data' is not defined"
     ]
    }
   ],
   "source": [
    "from nanome.api.structure import Atom\n",
    "\n",
    "atom_list = []\n",
    "for record in data:\n",
    "    node = record['a']\n",
    "    print(next(iter(node.values())))\n",
    "    continue\n",
    "    new_atom = Atom(name=next(iter(node.values())))\n",
    "    atom_list.append()"
   ]
  },
  {
   "cell_type": "code",
   "execution_count": 2,
   "id": "dd241060-f866-40ec-80a8-9cb3b91620b0",
   "metadata": {},
   "outputs": [
    {
     "name": "stdout",
     "output_type": "stream",
     "text": [
      "\u001b[0mSending update_structures_deep Request to Redis Channel 931744fa-b75c-4a08-aad1-c3c772d23138\u001b[0m\n",
      "\u001b[0mResponse received on channel 5fc3f201-13fd-49db-a5d1-9450b349f0b1\u001b[0m\n"
     ]
    },
    {
     "data": {
      "text/plain": [
       "()"
      ]
     },
     "execution_count": 2,
     "metadata": {},
     "output_type": "execute_result"
    }
   ],
   "source": [
    "from nanome.api.structure import Complex\n",
    "comp = Complex()\n",
    "comp.name = 'Test Complex'\n",
    "\n",
    "plugin.update_structures_deep([comp])"
   ]
  },
  {
   "cell_type": "code",
   "execution_count": 6,
   "id": "36a753e4-76de-46bc-b3bc-1cab8eeee503",
   "metadata": {},
   "outputs": [
    {
     "name": "stdout",
     "output_type": "stream",
     "text": [
      "\u001b[0mSending upload_shapes Request to Redis Channel 3c07503c-4fc5-4a36-ab23-3aed541ee453\u001b[0m\n",
      "\u001b[0mResponse received on channel b8b20c68-bc18-462a-9efc-14bc3c77821f\u001b[0m\n",
      "(bytearray(b'\\x01'),)\n"
     ]
    },
    {
     "ename": "ValueError",
     "evalue": "not enough values to unpack (expected 2, got 1)",
     "output_type": "error",
     "traceback": [
      "\u001b[0;31m\u001b[0m",
      "\u001b[0;31mValueError\u001b[0mTraceback (most recent call last)",
      "\u001b[0;32m<ipython-input-6-6d310f3a8c7c>\u001b[0m in \u001b[0;36m<module>\u001b[0;34m\u001b[0m\n\u001b[1;32m      2\u001b[0m \u001b[0msphere\u001b[0m \u001b[0;34m=\u001b[0m \u001b[0mSphere\u001b[0m\u001b[0;34m(\u001b[0m\u001b[0;34m)\u001b[0m\u001b[0;34m\u001b[0m\u001b[0;34m\u001b[0m\u001b[0m\n\u001b[1;32m      3\u001b[0m \u001b[0msphere\u001b[0m\u001b[0;34m.\u001b[0m\u001b[0mradius\u001b[0m \u001b[0;34m=\u001b[0m \u001b[0;36m5\u001b[0m\u001b[0;34m\u001b[0m\u001b[0;34m\u001b[0m\u001b[0m\n\u001b[0;32m----> 4\u001b[0;31m \u001b[0msphere\u001b[0m\u001b[0;34m,\u001b[0m \u001b[0merror\u001b[0m \u001b[0;34m=\u001b[0m \u001b[0mplugin_instance\u001b[0m\u001b[0;34m.\u001b[0m\u001b[0mupload_shapes\u001b[0m\u001b[0;34m(\u001b[0m\u001b[0;34m[\u001b[0m\u001b[0msphere\u001b[0m\u001b[0;34m]\u001b[0m\u001b[0;34m)\u001b[0m\u001b[0;34m\u001b[0m\u001b[0;34m\u001b[0m\u001b[0m\n\u001b[0m",
      "\u001b[0;31mValueError\u001b[0m: not enough values to unpack (expected 2, got 1)"
     ]
    }
   ],
   "source": [
    "from nanome.api.shapes import Shape, Sphere\n",
    "sphere = Sphere()\n",
    "sphere.radius = 5\n",
    "sphere = plugin_instance.upload_shapes([sphere])"
   ]
  },
  {
   "cell_type": "code",
   "execution_count": 4,
   "id": "8cf8bdaa-0663-422c-a8aa-ad61a6700218",
   "metadata": {},
   "outputs": [
    {
     "data": {
      "text/plain": [
       "(bytearray(b'\\x01'),)"
      ]
     },
     "execution_count": 4,
     "metadata": {},
     "output_type": "execute_result"
    }
   ],
   "source": [
    "sphere"
   ]
  },
  {
   "cell_type": "code",
   "execution_count": 5,
   "id": "fe2a945a-1625-4d36-9d76-3deca50a3511",
   "metadata": {},
   "outputs": [
    {
     "ename": "AttributeError",
     "evalue": "'tuple' object has no attribute 'decode'",
     "output_type": "error",
     "traceback": [
      "\u001b[0;31m\u001b[0m",
      "\u001b[0;31mAttributeError\u001b[0mTraceback (most recent call last)",
      "\u001b[0;32m<ipython-input-5-20d51ec16819>\u001b[0m in \u001b[0;36m<module>\u001b[0;34m\u001b[0m\n\u001b[0;32m----> 1\u001b[0;31m \u001b[0msphere\u001b[0m\u001b[0;34m.\u001b[0m\u001b[0mdecode\u001b[0m\u001b[0;34m(\u001b[0m\u001b[0;34m)\u001b[0m\u001b[0;34m\u001b[0m\u001b[0;34m\u001b[0m\u001b[0m\n\u001b[0m",
      "\u001b[0;31mAttributeError\u001b[0m: 'tuple' object has no attribute 'decode'"
     ]
    }
   ],
   "source": [
    "sphere.decode()"
   ]
  },
  {
   "cell_type": "code",
   "execution_count": null,
   "id": "9ae201e3-a3e9-43fd-9e06-1ef763dc9f4d",
   "metadata": {},
   "outputs": [],
   "source": []
  }
 ],
 "metadata": {
  "kernelspec": {
   "display_name": "Python 3",
   "language": "python",
   "name": "python3"
  },
  "language_info": {
   "codemirror_mode": {
    "name": "ipython",
    "version": 3
   },
   "file_extension": ".py",
   "mimetype": "text/x-python",
   "name": "python",
   "nbconvert_exporter": "python",
   "pygments_lexer": "ipython3",
   "version": "3.9.2"
  }
 },
 "nbformat": 4,
 "nbformat_minor": 5
}
