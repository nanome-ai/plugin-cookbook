{
 "cells": [
  {
   "cell_type": "code",
   "execution_count": 1,
   "id": "381bc757-d397-4a2f-b9ef-74dd0def85ba",
   "metadata": {},
   "outputs": [
    {
     "name": "stdout",
     "output_type": "stream",
     "text": [
      "Hello\n"
     ]
    }
   ],
   "source": [
    "from nanome.service import PluginService\n",
    "from nanome.interface import PluginInstanceRedisInterface\n",
    "\n",
    "# Set up redis credentials\n",
    "redis_host = 'redis'\n",
    "redis_port = 6379\n",
    "\n",
    "# When your PluginService is running, you can get your channel value from the Logs, or from the query parameter in your open browser.\n",
    "# Update this value to match that, so that your commands will run against your live workspace.\n",
    "redis_channel = '6bc0d46f-b622-45eb-8623-886216c906bc'\n",
    "\n",
    "plugin_instance = PluginInstanceRedisInterface(redis_host, redis_port, redis_channel)\n",
    "print('Hello')"
   ]
  },
  {
   "cell_type": "code",
   "execution_count": null,
   "id": "8b82a3ae-c281-4cb9-9435-7dd57b0407ef",
   "metadata": {
    "tags": []
   },
   "outputs": [
    {
     "name": "stdout",
     "output_type": "stream",
     "text": [
      "\u001b[0mSending request_complex_list Request to Redis Channel 6bc0d46f-b622-45eb-8623-886216c906bc\u001b[0m\n"
     ]
    }
   ],
   "source": [
    "comps = plugin_instance.request_complex_list()\n",
    "print(comp)\n"
   ]
  },
  {
   "cell_type": "code",
   "execution_count": null,
   "id": "0a07c480-b68a-41d0-b60e-ec333f932dd4",
   "metadata": {},
   "outputs": [],
   "source": [
    "# Changing complex color\n",
    "# print(\"changing comp color\")\n",
    "# plugin_instance.cycle_color([comp.index])"
   ]
  },
  {
   "cell_type": "code",
   "execution_count": null,
   "id": "c49cf1cb-5c08-4842-a029-3c14e6a9cc6d",
   "metadata": {},
   "outputs": [],
   "source": [
    "# neo4j setup\n",
    "from py2neo import Graph, Node, Relationship\n",
    "\n",
    "neo4j_uri = 'bolt://neo4j:7687/'\n",
    "username = 'neo4j'\n",
    "password = 'F8dwclytew'\n",
    "graph = Graph(neo4j_uri, auth=(username, password))\n"
   ]
  },
  {
   "cell_type": "code",
   "execution_count": null,
   "id": "0bee5a56-0f91-4736-8801-0fe2e041e0f1",
   "metadata": {},
   "outputs": [],
   "source": [
    "with open(\"assets/neo4j_query.txt\") as f:\n",
    "    query_string = f.read()\n",
    "results = graph.run(query_string)\n",
    "data = results.data()"
   ]
  },
  {
   "cell_type": "code",
   "execution_count": null,
   "id": "6328139a-7a18-4155-a494-d36c32ac04c1",
   "metadata": {},
   "outputs": [],
   "source": []
  },
  {
   "cell_type": "code",
   "execution_count": 2,
   "id": "e96e5ce8-5815-4232-8f9e-e42b72111b08",
   "metadata": {},
   "outputs": [
    {
     "ename": "NameError",
     "evalue": "name 'data' is not defined",
     "output_type": "error",
     "traceback": [
      "\u001b[0;31m\u001b[0m",
      "\u001b[0;31mNameError\u001b[0mTraceback (most recent call last)",
      "\u001b[0;32m<ipython-input-2-e387cffff04a>\u001b[0m in \u001b[0;36m<module>\u001b[0;34m\u001b[0m\n\u001b[1;32m      2\u001b[0m \u001b[0;34m\u001b[0m\u001b[0m\n\u001b[1;32m      3\u001b[0m \u001b[0matom_list\u001b[0m \u001b[0;34m=\u001b[0m \u001b[0;34m[\u001b[0m\u001b[0;34m]\u001b[0m\u001b[0;34m\u001b[0m\u001b[0;34m\u001b[0m\u001b[0m\n\u001b[0;32m----> 4\u001b[0;31m \u001b[0;32mfor\u001b[0m \u001b[0mrecord\u001b[0m \u001b[0;32min\u001b[0m \u001b[0mdata\u001b[0m\u001b[0;34m:\u001b[0m\u001b[0;34m\u001b[0m\u001b[0;34m\u001b[0m\u001b[0m\n\u001b[0m\u001b[1;32m      5\u001b[0m     \u001b[0mnode\u001b[0m \u001b[0;34m=\u001b[0m \u001b[0mrecord\u001b[0m\u001b[0;34m[\u001b[0m\u001b[0;34m'a'\u001b[0m\u001b[0;34m]\u001b[0m\u001b[0;34m\u001b[0m\u001b[0;34m\u001b[0m\u001b[0m\n\u001b[1;32m      6\u001b[0m     \u001b[0mprint\u001b[0m\u001b[0;34m(\u001b[0m\u001b[0mnext\u001b[0m\u001b[0;34m(\u001b[0m\u001b[0miter\u001b[0m\u001b[0;34m(\u001b[0m\u001b[0mnode\u001b[0m\u001b[0;34m.\u001b[0m\u001b[0mvalues\u001b[0m\u001b[0;34m(\u001b[0m\u001b[0;34m)\u001b[0m\u001b[0;34m)\u001b[0m\u001b[0;34m)\u001b[0m\u001b[0;34m)\u001b[0m\u001b[0;34m\u001b[0m\u001b[0;34m\u001b[0m\u001b[0m\n",
      "\u001b[0;31mNameError\u001b[0m: name 'data' is not defined"
     ]
    }
   ],
   "source": [
    "from nanome.api.structure import Atom\n",
    "\n",
    "atom_list = []\n",
    "for record in data:\n",
    "    node = record['a']\n",
    "    print(next(iter(node.values())))\n",
    "    continue\n",
    "    new_atom = Atom(name=next(iter(node.values())))\n",
    "    atom_list.append()"
   ]
  },
  {
   "cell_type": "code",
   "execution_count": null,
   "id": "7e2d1e44-5632-4d0e-b280-64882270a4ac",
   "metadata": {},
   "outputs": [],
   "source": [
    "plugin = PluginInstanceRedisInterface(redis_host, redis_port)"
   ]
  },
  {
   "cell_type": "code",
   "execution_count": null,
   "id": "bcc76535-35ec-447a-9dbf-8949b9e797d3",
   "metadata": {},
   "outputs": [],
   "source": [
    "plugin.update_structures_deep(atom_list)"
   ]
  },
  {
   "cell_type": "code",
   "execution_count": null,
   "id": "dc3428c5-3950-4c4a-9d72-4a72eaf27b2c",
   "metadata": {},
   "outputs": [],
   "source": [
    "atom = Atom()\n",
    "atom.name = 'Test Atom'\n",
    "\n",
    "plugin_instance.update_structures_deep([atom])"
   ]
  },
  {
   "cell_type": "code",
   "execution_count": null,
   "id": "dd241060-f866-40ec-80a8-9cb3b91620b0",
   "metadata": {},
   "outputs": [],
   "source": []
  }
 ],
 "metadata": {
  "kernelspec": {
   "display_name": "Python 3",
   "language": "python",
   "name": "python3"
  },
  "language_info": {
   "codemirror_mode": {
    "name": "ipython",
    "version": 3
   },
   "file_extension": ".py",
   "mimetype": "text/x-python",
   "name": "python",
   "nbconvert_exporter": "python",
   "pygments_lexer": "ipython3",
   "version": "3.9.2"
  }
 },
 "nbformat": 4,
 "nbformat_minor": 5
}
