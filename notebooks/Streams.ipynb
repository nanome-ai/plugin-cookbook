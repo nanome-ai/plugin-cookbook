{
 "cells": [
  {
   "cell_type": "code",
   "execution_count": null,
   "id": "cf8ce0a5",
   "metadata": {},
   "outputs": [],
   "source": [
    "\"\"\"Run this to connect your plugins to to Nanome's DEV NTS server.\n",
    "\n",
    "Alternatively, host and port can be passed as kwargs into the Plugin.setup() function\n",
    "\n",
    "To connect your VR Application to the DEV server, please see https://nanome.readthedocs.io/en/latest/#using-plugins \n",
    "\"\"\"\n",
    "\n",
    "import nanome\n",
    "\n",
    "nanome.util.config.set('host', 'plugins.nanome.ai')\n",
    "nanome.util.config.set('port', 9999)"
   ]
  },
  {
   "cell_type": "code",
   "execution_count": null,
   "id": "67b7e925",
   "metadata": {},
   "outputs": [],
   "source": [
    "\"\"\"Let's create a plugin with a menu containing 1 button, which will load a complex into the workspace.\"\"\"\n",
    "\n",
    "import nanome\n",
    "from nanome.api import Plugin, PluginInstance\n",
    "from nanome.api.structure import Complex\n",
    "from nanome.util import enums, Logs\n",
    "\n",
    "nanome.util.config.set('host', 'plugins.nanome.ai')\n",
    "nanome.util.config.set('port', 9999)\n",
    "\n",
    "class ComplexColorChangerPlugin(nanome.PluginInstance):\n",
    "\n",
    "    def on_run(self):\n",
    "        self.request_complex_list(self.get_complexes_deep)\n",
    "\n",
    "    def get_complexes_deep(self, complex_list):\n",
    "        indices = [com.index for com in complex_list]\n",
    "        self.request_complexes(indices, self.change_color_scheme)\n",
    "\n",
    "    def change_color_scheme(self, complex_list):\n",
    "        # Nanome provides an enum of ColorSchemes for easy updates\n",
    "        # https://nanome.readthedocs.io/en/latest/nanome.util.enums.html#nanome.util.enums.ColorScheme\n",
    "        for comp in complex_list:\n",
    "            self.apply_color_scheme(enums.ColorScheme.Rainbow, enums.ColorSchemeTarget.All, False)\n",
    "\n",
    "name = 'Color changer'\n",
    "description = \"\"\n",
    "category = 'Demo'\n",
    "has_advanced = False\n",
    "plugin = Plugin.setup(name, description, category, has_advanced, ComplexColorChangerPlugin)\n"
   ]
  }
 ],
 "metadata": {
  "kernelspec": {
   "display_name": "Python 3",
   "language": "python",
   "name": "python3"
  },
  "language_info": {
   "codemirror_mode": {
    "name": "ipython",
    "version": 3
   },
   "file_extension": ".py",
   "mimetype": "text/x-python",
   "name": "python",
   "nbconvert_exporter": "python",
   "pygments_lexer": "ipython3",
   "version": "3.8.8"
  }
 },
 "nbformat": 4,
 "nbformat_minor": 5
}
