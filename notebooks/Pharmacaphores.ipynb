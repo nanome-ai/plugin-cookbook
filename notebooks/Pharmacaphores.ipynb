{
 "cells": [
  {
   "cell_type": "code",
   "execution_count": null,
   "id": "98a75097-edbe-4795-8732-c282f8f9c351",
   "metadata": {},
   "outputs": [],
   "source": [
    "from nanome.service import PluginService\n",
    "from nanome.interface import PluginInstanceRedisInterface\n",
    "\n",
    "# Set up redis credentials\n",
    "redis_host = 'redis'\n",
    "redis_port = 6379\n",
    "redis_password = ''\n",
    "\n",
    "# When your PluginService is running, you can get your channel value from the Logs, or from the query parameter in your open browser.\n",
    "# Update this value to match that, so that your commands will run against your live workspace.\n",
    "redis_channel = 'a5100bcd-3b33-48dc-a8b0-67f88182f24e'\n",
    "\n",
    "plugin_instance = PluginInstanceRedisInterface(redis_host, redis_port, redis_password, redis_channel)\n",
    "print('Hello')"
   ]
  },
  {
   "cell_type": "code",
   "execution_count": null,
   "id": "ac57f927-5b1f-4fbe-8e96-ee96cd8f1b68",
   "metadata": {},
   "outputs": [],
   "source": [
    "# Test connection to Session\n",
    "comps = plugin_instance.request_complex_list()\n",
    "print(comps)"
   ]
  },
  {
   "cell_type": "code",
   "execution_count": null,
   "id": "2bc872ef-7d78-443d-9a7e-a570bdc4eac3",
   "metadata": {},
   "outputs": [],
   "source": [
    "from rdkit import Chem\n",
    "from rdkit.Chem import ChemicalFeatures\n",
    "from rdkit import rdBase\n",
    "from rdkit.RDPaths import RDDocsDir\n",
    "from rdkit.RDPaths import RDDataDir\n",
    "from rdkit.Chem.Draw import IPythonConsole\n",
    "from rdkit.Chem import Draw\n",
    "from rdkit.Chem import AllChem\n",
    "import os\n",
    "print(rdBase.rdkitVersion)\n",
    "IPythonConsole.ipython_useSVG=True"
   ]
  },
  {
   "cell_type": "code",
   "execution_count": null,
   "id": "15aa2ce1-8c8a-47f3-9e2b-cfe7c23c7865",
   "metadata": {},
   "outputs": [],
   "source": [
    "fdefFile = os.path.join(RDDataDir,'BaseFeatures.fdef')\n",
    "featFact = ChemicalFeatures.BuildFeatureFactory(fdefFile)"
   ]
  },
  {
   "cell_type": "code",
   "execution_count": null,
   "id": "99a5385d-fd23-4581-bfe0-97ea6113f290",
   "metadata": {},
   "outputs": [],
   "source": [
    "mols = [m for m in Chem.SDMolSupplier(os.path.join(RDDocsDir,\"Book/data/cdk2.sdf\"))]\n",
    "featslists = [featFact.GetFeaturesForMol(mol) for mol in mols]\n",
    "for mol in mols:\n",
    "    AllChem.Compute2DCoords(mol)"
   ]
  },
  {
   "cell_type": "code",
   "execution_count": null,
   "id": "c654b0ad-af58-4bfb-962a-77c3e64b5e77",
   "metadata": {},
   "outputs": [],
   "source": [
    "def drawp4core(mol, feats):\n",
    "    atoms_list = {}\n",
    "    for feat in feats:\n",
    "        atom_ids = feat.GetAtomIds()\n",
    "        feat_type = feat.GetType()\n",
    "        atoms_list[feat_type] = atom_ids\n",
    "    return Draw.MolsToGridImage(\n",
    "        [mol]*len(atoms_list),\n",
    "        legends=list(atoms_list.keys()),\n",
    "        highlightAtomLists=list(atoms_list.values()))"
   ]
  },
  {
   "cell_type": "code",
   "execution_count": null,
   "id": "ebd44da5-8dd3-459f-9b6b-5abebaa31de3",
   "metadata": {},
   "outputs": [],
   "source": [
    "im = drawp4core(mols[1], featslists[1])\n",
    "im"
   ]
  },
  {
   "cell_type": "code",
   "execution_count": null,
   "id": "651c57d0-1116-4a67-a2b8-e1d51a53ee73",
   "metadata": {},
   "outputs": [],
   "source": []
  }
 ],
 "metadata": {
  "kernelspec": {
   "display_name": "Python 3",
   "language": "python",
   "name": "python3"
  },
  "language_info": {
   "codemirror_mode": {
    "name": "ipython",
    "version": 3
   },
   "file_extension": ".py",
   "mimetype": "text/x-python",
   "name": "python",
   "nbconvert_exporter": "python",
   "pygments_lexer": "ipython3",
   "version": "3.9.2"
  }
 },
 "nbformat": 4,
 "nbformat_minor": 5
}
