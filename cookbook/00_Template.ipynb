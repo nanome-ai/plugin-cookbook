{
 "cells": [
  {
   "cell_type": "markdown",
   "id": "15213f85-7448-4ad7-9eb7-6f5b9a69bb39",
   "metadata": {},
   "source": [
    "# Cookbook Template\n",
    "\n",
    "This gets you set up with a basic PluginInstanceRedisInterface that can communicate with your Nanome workspace from a Jupyter Notebook\n",
    "\n",
    "Note that anything involving Redis is specific to the Cookbook project, and is not used for traditional plugins.\n",
    "\n",
    "For more info on building regular plugins, see the 'Plugins' notebook.\n",
    "\n",
    "\n",
    "## Setup.\n",
    "1) Open up a Room in Nanome.\n",
    "2) Navigate to the Stacks menu. If your Cookbook has been sucessfully deployed, you should have a \"Cookbook\" entry in your list\n",
    "2) Start the Plugin, and the run button should say \"Live\". This mean the room is ready to accept requests from your notebook"
   ]
  },
  {
   "cell_type": "code",
   "execution_count": 1,
   "id": "5c48043f-598e-49cf-9914-4cdd02c6b5d3",
   "metadata": {
    "tags": []
   },
   "outputs": [
    {
     "name": "stdout",
     "output_type": "stream",
     "text": [
      "Plugin Connected\n"
     ]
    }
   ],
   "source": [
    "import os\n",
    "from nanome.beta.redis_interface import PluginInstanceRedisInterface\n",
    "\n",
    "# Set up redis credentials\n",
    "redis_host = os.environ.get(\"REDIS_HOST\")\n",
    "redis_port = os.environ.get(\"REDIS_PORT\")\n",
    "redis_password = os.environ.get(\"REDIS_PASSWORD\")\n",
    "redis_channel = \"\"  # Use room id code you receive when activating cookbook plugin\n",
    "\n",
    "plugin_instance = PluginInstanceRedisInterface(redis_host, redis_port, redis_password, redis_channel)\n",
    "plugin_instance.connect()\n",
    "print('Plugin Connected')"
   ]
  },
  {
   "cell_type": "code",
   "execution_count": 2,
   "id": "e2232af1-f2cb-4e8d-93b8-fec4e32ed9b9",
   "metadata": {},
   "outputs": [
    {
     "data": {
      "text/plain": [
       "[<nanome.util.file.LoadInfoDone at 0x7f8f6b34f280>]"
      ]
     },
     "execution_count": 2,
     "metadata": {},
     "output_type": "execute_result"
    }
   ],
   "source": [
    "# Load a TYL into your workspace, and retrieve.\n",
    "from nanome.api.structure import Complex\n",
    "\n",
    "tyl_pdb = 'test_data/1tyl.pdb'\n",
    "plugin_instance.send_files_to_load([tyl_pdb])\n"
   ]
  },
  {
   "cell_type": "code",
   "execution_count": 57,
   "id": "b99eaf03-bdf1-4b5f-9ec4-21098ef0468b",
   "metadata": {},
   "outputs": [],
   "source": [
    "# Get new complex from workspace\n",
    "ws = plugin_instance.request_workspace()\n",
    "comp = ws.complexes[-1]"
   ]
  },
  {
   "cell_type": "code",
   "execution_count": 41,
   "id": "dfb9624d-84be-4d82-aa17-11912449e940",
   "metadata": {},
   "outputs": [],
   "source": [
    "# Lets do some fun stuff\n",
    "from nanome.api import structure\n",
    "import numpy as np\n",
    "from scipy.spatial import KDTree\n",
    "import itertools\n",
    "\n",
    "def get_neighboring_atoms(target_reference: structure.Complex, selected_atoms: list, site_size=6):\n",
    "    \"\"\"Use KDTree to find target atoms within site_size radius of selected atoms.\n",
    "    \n",
    "    returns a list of atoms within `site_size` angstroms of the ligand.\n",
    "    \"\"\"\n",
    "    mol = next(\n",
    "        mol for i, mol in enumerate(target_reference.molecules)\n",
    "        if i == target_reference.current_frame)\n",
    "    ligand_positions = [atom.position.unpack() for atom in selected_atoms]\n",
    "    target_atoms = itertools.chain(*[ch.atoms for ch in mol.chains if not ch.name.startswith(\"H\")])\n",
    "    target_tree = KDTree([atom.position.unpack() for atom in target_atoms])\n",
    "    target_point_indices = target_tree.query_ball_point(ligand_positions, site_size)\n",
    "    near_point_set = set()\n",
    "    for point_indices in target_point_indices:\n",
    "        for point_index in point_indices:\n",
    "            near_point_set.add(tuple(target_tree.data[point_index]))\n",
    "    neighbor_atoms = []\n",
    "    for targ_atom in mol.atoms:\n",
    "        if targ_atom.position.unpack() in near_point_set:\n",
    "            neighbor_atoms.append(targ_atom)\n",
    "    return neighbor_atoms"
   ]
  },
  {
   "cell_type": "code",
   "execution_count": 69,
   "id": "9f5285f1-b416-4182-b1e0-694b1dc2088c",
   "metadata": {},
   "outputs": [],
   "source": [
    "\n",
    "from nanome.util import Color\n",
    "\n",
    "# Make sure ligand is visible and deselected (We don't want to apply color scheme)\n",
    "ligand_res = next(res for res in comp.residues if res.name.upper() == 'TYL')\n",
    "for atom in ligand_res.atoms:\n",
    "    atom.set_visible(True)\n",
    "    atom.selected = False\n",
    "\n",
    "# Use get neighboring atoms to detect pocket.\n",
    "ligand_atoms = list(ligand_res.atoms)\n",
    "ligand_pocket = get_neighboring_atoms(comp, ligand_atoms)\n",
    "\n",
    "# Loop through protein, and show surface around pocket\n",
    "non_ligand_residues = (comp_res for comp_res in comp.residues if comp_res.index != ligand_res.index)\n",
    "for res in non_ligand_residues:\n",
    "    # Show surface on ligand pocket\n",
    "    res.ribboned = True\n",
    "    for atom in res.atoms:\n",
    "        if atom in ligand_pocket:\n",
    "            atom.atom_mode = enums.AtomRenderingMode.Wire\n",
    "            atom.set_visible(True)\n",
    "            atom.surface_rendering = True\n",
    "            atom.selected = True\n",
    "        else:\n",
    "            atom.atom_mode = enums.AtomRenderingMode.Wire\n",
    "            atom.set_visible(True)\n",
    "            atom.surface_rendering = False\n",
    "            atom.selected = False\n",
    "\n",
    "plugin_instance.update_structures_deep([comp])\n",
    "plugin_instance.apply_color_scheme(enums.ColorScheme.BFactor, enums.ColorSchemeTarget.All)\n"
   ]
  },
  {
   "cell_type": "code",
   "execution_count": null,
   "id": "b90fcd23-9324-40d9-af57-29c8ec8994cc",
   "metadata": {},
   "outputs": [],
   "source": []
  }
 ],
 "metadata": {
  "kernelspec": {
   "display_name": "Python 3",
   "language": "python",
   "name": "python3"
  },
  "language_info": {
   "codemirror_mode": {
    "name": "ipython",
    "version": 3
   },
   "file_extension": ".py",
   "mimetype": "text/x-python",
   "name": "python",
   "nbconvert_exporter": "python",
   "pygments_lexer": "ipython3",
   "version": "3.9.18"
  }
 },
 "nbformat": 4,
 "nbformat_minor": 5
}
