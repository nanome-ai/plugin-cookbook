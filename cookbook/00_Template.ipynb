{
 "cells": [
  {
   "cell_type": "markdown",
   "id": "15213f85-7448-4ad7-9eb7-6f5b9a69bb39",
   "metadata": {},
   "source": [
    "# Cookbook Template\n",
    "\n",
    "This gets you set up with a basic PluginInstanceRedisInterface that can communicate with your Nanome workspace from a Jupyter Notebook\n",
    "\n",
    "Note that anything involving Redis is specific to the Cookbook project, and is not used for traditional plugins.\n",
    "\n",
    "For more info on building regular plugins, see the 'Plugins' notebook.\n",
    "\n",
    "\n",
    "## Setup.\n",
    "1) Open up a Room in Nanome.\n",
    "2) Navigate to the Stacks menu. If your Cookbook has been sucessfully deployed, you should have a \"Cookbook\" entry in your list\n",
    "2) Start the Plugin, and the run button should say \"Live\". This mean the room is ready to accept requests from your notebook"
   ]
  },
  {
   "cell_type": "code",
   "execution_count": null,
   "id": "5c48043f-598e-49cf-9914-4cdd02c6b5d3",
   "metadata": {
    "tags": []
   },
   "outputs": [],
   "source": [
    "import os\n",
    "from redis_interface import PluginInstanceRedisInterface\n",
    "\n",
    "\n",
    "# Set up redis credentials\n",
    "redis_host = os.environ.get(\"REDIS_HOST\")\n",
    "redis_port = os.environ.get(\"REDIS_PORT\")\n",
    "redis_password = os.environ.get(\"REDIS_PASSWORD\")\n",
    "redis_channel = \"4TOGN\"  # Use room id code you receive when activating cookbook plugin\n",
    "\n",
    "plugin_instance = PluginInstanceRedisInterface(redis_host, redis_port, redis_password, redis_channel)\n",
    "plugin_instance.ping()\n",
    "print('Plugin Connected')"
   ]
  },
  {
   "cell_type": "code",
   "execution_count": null,
   "id": "5f27a027-bdfa-49b2-bf06-40d3b278c349",
   "metadata": {},
   "outputs": [],
   "source": [
    "# After you start the Cookbook plugin from Nanome, you can use the plugin_instance to query/modify your workspace\n",
    "\n",
    "comps = plugin_instance.request_complex_list()\n",
    "print(comps)"
   ]
  },
  {
   "cell_type": "code",
   "execution_count": null,
   "id": "e2232af1-f2cb-4e8d-93b8-fec4e32ed9b9",
   "metadata": {},
   "outputs": [],
   "source": [
    "# Load a benzene into your workspace\n",
    "from nanome.api.structure import Complex\n",
    "\n",
    "benzene_sdf = 'notebooks/assets/cookbook/benzene_241.sdf'\n",
    "comp = Complex.io.from_sdf(path=benzene_sdf)\n",
    "comp.name = 'Benzene'\n",
    "plugin_instance.add_to_workspace([comp])\n"
   ]
  },
  {
   "cell_type": "code",
   "execution_count": null,
   "id": "dfb9624d-84be-4d82-aa17-11912449e940",
   "metadata": {},
   "outputs": [],
   "source": []
  }
 ],
 "metadata": {
  "kernelspec": {
   "display_name": "Python 3",
   "language": "python",
   "name": "python3"
  },
  "language_info": {
   "codemirror_mode": {
    "name": "ipython",
    "version": 3
   },
   "file_extension": ".py",
   "mimetype": "text/x-python",
   "name": "python",
   "nbconvert_exporter": "python",
   "pygments_lexer": "ipython3",
   "version": "3.9.16"
  }
 },
 "nbformat": 4,
 "nbformat_minor": 5
}
