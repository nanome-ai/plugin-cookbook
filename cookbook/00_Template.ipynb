{
 "cells": [
  {
   "cell_type": "markdown",
   "id": "15213f85-7448-4ad7-9eb7-6f5b9a69bb39",
   "metadata": {},
   "source": [
    "# Cookbook Template\n",
    "\n",
    "This gets you set up with a basic PluginInstanceRedisInterface that can communicate with your Nanome workspace from a Jupyter Notebook\n",
    "\n",
    "Note that anything involving Redis is specific to the Cookbook project, and is not used for traditional plugins.\n",
    "\n",
    "For more info on building regular plugins, see the 'Plugins' notebook.\n",
    "\n",
    "\n",
    "## Setup.\n",
    "1) Open up a Room in Nanome.\n",
    "2) Navigate to the Stacks menu. If your Cookbook has been sucessfully deployed, you should have a \"Cookbook\" entry in your list\n",
    "2) Start the Plugin, and the run button should say \"Live\". This mean the room is ready to accept requests from your notebook"
   ]
  },
  {
   "cell_type": "code",
   "execution_count": null,
   "id": "5c48043f-598e-49cf-9914-4cdd02c6b5d3",
   "metadata": {
    "tags": []
   },
   "outputs": [],
   "source": [
    "import os\n",
    "from nanome.beta.redis_interface import PluginInstanceRedisInterface\n",
    "\n",
    "# Set up redis credentials\n",
    "redis_host = os.environ.get(\"REDIS_HOST\")\n",
    "redis_port = os.environ.get(\"REDIS_PORT\")\n",
    "redis_password = os.environ.get(\"REDIS_PASSWORD\")\n",
    "redis_channel = \"12345\"  # Use room id code you receive when activating cookbook plugin\n",
    "\n",
    "plugin = PluginInstanceRedisInterface(redis_host, redis_port, redis_password, redis_channel)\n",
    "plugin.connect()\n",
    "print('Plugin Connected')"
   ]
  },
  {
   "cell_type": "code",
   "execution_count": null,
   "id": "e2232af1-f2cb-4e8d-93b8-fec4e32ed9b9",
   "metadata": {},
   "outputs": [],
   "source": [
    "# Load a TYL into your workspace\n",
    "tyl_pdb = 'test_data/1tyl.pdb'\n",
    "plugin.send_files_to_load([tyl_pdb])\n"
   ]
  },
  {
   "cell_type": "code",
   "execution_count": null,
   "id": "b99eaf03-bdf1-4b5f-9ec4-21098ef0468b",
   "metadata": {},
   "outputs": [],
   "source": [
    "# Get new complex from workspace\n",
    "ws = plugin.request_workspace()\n",
    "comp = ws.complexes[-1]"
   ]
  },
  {
   "cell_type": "code",
   "execution_count": null,
   "id": "0436765b-8fcf-482c-ab1b-820f0457dac8",
   "metadata": {},
   "outputs": [],
   "source": [
    "# Lets make the whole complex blue\n",
    "from nanome.util import Color\n",
    "color = Color.Blue()\n",
    "\n",
    "for residue in comp.residues:\n",
    "    residue.ribbon_color = color\n",
    "    for atom in residue.atoms:\n",
    "        atom.atom_color = color\n",
    "plugin.update_structures_deep([comp])"
   ]
  },
  {
   "cell_type": "code",
   "execution_count": null,
   "id": "671f6911-b0bf-4333-b906-d56f45c1e7f6",
   "metadata": {},
   "outputs": [],
   "source": [
    "# Lets reapply the default Element color scheme.\n",
    "from nanome.util import enums\n",
    "color_scheme = enums.ColorScheme.Element\n",
    "color_scheme_target = enums.ColorSchemeTarget.All\n",
    "\n",
    "# Color schemes apply to all selected atoms\n",
    "for atom in comp.atoms:\n",
    "    atom.selected = True\n",
    "plugin.update_structures_deep([comp])\n",
    "plugin.apply_color_scheme(color_scheme, color_scheme_target)\n",
    "\n",
    "# Pull latest changes into memory\n",
    "[comp] = plugin.request_complexes([comp.index])"
   ]
  },
  {
   "cell_type": "code",
   "execution_count": null,
   "id": "dfb9624d-84be-4d82-aa17-11912449e940",
   "metadata": {},
   "outputs": [],
   "source": [
    "# Lets do some fun stuff\n",
    "\n",
    "# Create useful functions we can reuse later\n",
    "from nanome.api import structure\n",
    "from scipy.spatial import KDTree\n",
    "import itertools\n",
    "\n",
    "def select_atoms(atom_list):\n",
    "    for atm in atom_list:\n",
    "        atm.selected = True\n",
    "\n",
    "def render_surface_around_atoms(comp, atom_list):\n",
    "    for atm in comp.atoms:\n",
    "        atm.surface_rendering = atm in atom_list\n",
    "    comp._surface_dirty = True\n",
    "\n",
    "\n",
    "def get_neighboring_atoms(target_reference: structure.Complex, selected_atoms: list, radius=5):\n",
    "    \"\"\"Use KDTree to find target atoms within site_size radius of selected atoms.\n",
    "    \n",
    "    returns a list of atoms within `site_size` angstroms of the ligand.\n",
    "    \"\"\"\n",
    "    mol = next(\n",
    "        mol for i, mol in enumerate(target_reference.molecules)\n",
    "        if i == target_reference.current_frame)\n",
    "    ligand_positions = [atom.position.unpack() for atom in selected_atoms]\n",
    "    target_atoms = itertools.chain(*[ch.atoms for ch in mol.chains if not ch.name.startswith(\"H\")])\n",
    "    target_tree = KDTree([atom.position.unpack() for atom in target_atoms])\n",
    "    target_point_indices = target_tree.query_ball_point(ligand_positions, radius)\n",
    "    near_point_set = set()\n",
    "    for point_indices in target_point_indices:\n",
    "        for point_index in point_indices:\n",
    "            near_point_set.add(tuple(target_tree.data[point_index]))\n",
    "    neighbor_atoms = []\n",
    "    for targ_atom in mol.atoms:\n",
    "        if targ_atom.position.unpack() in near_point_set:\n",
    "            neighbor_atoms.append(targ_atom)\n",
    "    return neighbor_atoms"
   ]
  },
  {
   "cell_type": "code",
   "execution_count": null,
   "id": "b90fcd23-9324-40d9-af57-29c8ec8994cc",
   "metadata": {
    "scrolled": true
   },
   "outputs": [],
   "source": [
    "\"\"\"Render the surface around the pocket surrounding the TYL ligand.\"\"\"\n",
    "\n",
    "from nanome.util import enums\n",
    "\n",
    "ligand_res = next(res for res in comp.residues if res.name.upper() == 'TYL')\n",
    "ligand_atoms = list(ligand_res.atoms)\n",
    "\n",
    "neighbor_radius = 5\n",
    "ligand_pocket = get_neighboring_atoms(comp, ligand_atoms, neighbor_radius)\n",
    "\n",
    "comp.set_all_selected(False)\n",
    "select_atoms(ligand_pocket)\n",
    "render_surface_around_atoms(comp, ligand_pocket)\n",
    "\n",
    "plugin.update_structures_deep([comp])\n",
    "plugin.apply_color_scheme(enums.ColorScheme.DonorAcceptor, enums.ColorSchemeTarget.All)"
   ]
  },
  {
   "cell_type": "code",
   "execution_count": null,
   "id": "14ee53ec-6ae8-4704-be1e-aa56e3de3dfc",
   "metadata": {},
   "outputs": [],
   "source": []
  }
 ],
 "metadata": {
  "kernelspec": {
   "display_name": "Python 3",
   "language": "python",
   "name": "python3"
  },
  "language_info": {
   "codemirror_mode": {
    "name": "ipython",
    "version": 3
   },
   "file_extension": ".py",
   "mimetype": "text/x-python",
   "name": "python",
   "nbconvert_exporter": "python",
   "pygments_lexer": "ipython3",
   "version": "3.9.18"
  }
 },
 "nbformat": 4,
 "nbformat_minor": 5
}
