{
 "cells": [
  {
   "cell_type": "code",
   "execution_count": null,
   "id": "381bc757-d397-4a2f-b9ef-74dd0def85ba",
   "metadata": {},
   "outputs": [],
   "source": [
    "from nanome.beta.redis_interface import PluginInstanceRedisInterface\n",
    "from nanome.util.enums import StreamType\n",
    "import os\n",
    "import itertools\n",
    "\n",
    "# Set up redis credentials\n",
    "redis_host = os.environ.get(\"REDIS_HOST\")\n",
    "redis_port = os.environ.get(\"REDIS_PORT\")\n",
    "redis_password = os.environ.get(\"REDIS_PASSWORD\")\n",
    "redis_channel = \"\"  # Use room id code received when activating cookbook plugin\n",
    "\n",
    "plugin = PluginInstanceRedisInterface(redis_host, redis_port, redis_password, redis_channel)\n",
    "plugin.connect()\n",
    "print('Plugin Connected')"
   ]
  },
  {
   "cell_type": "code",
   "execution_count": null,
   "id": "8b82a3ae-c281-4cb9-9435-7dd57b0407ef",
   "metadata": {
    "tags": []
   },
   "outputs": [],
   "source": [
    "comps = plugin.request_complex_list()\n",
    "[comp] = plugin.request_complexes([comps[0].index])\n",
    "print(comp)"
   ]
  },
  {
   "cell_type": "code",
   "execution_count": null,
   "id": "0a07c480-b68a-41d0-b60e-ec333f932dd4",
   "metadata": {},
   "outputs": [],
   "source": [
    "roygbiv = [\n",
    "    (255, 0, 0),  # Red\n",
    "    (255, 127, 0),  # Orange\n",
    "    (255, 255, 0),  # Yellow\n",
    "    (0, 255, 0),  # Green\n",
    "    (0, 0, 255),  # Blue\n",
    "    (75, 0, 130),  # Indigo\n",
    "    (148, 0, 211),  # Violet\n",
    "]\n",
    "\n",
    "\n",
    "def set_color_stream_data(atom_indices, color):\n",
    "    \"\"\"Set the color for every atom in the stream.\"\"\"\n",
    "    stream_data = [None] * (len(atom_indices) * 3)\n",
    "    color_vals = itertools.cycle(color)\n",
    "    for i in range(len(stream_data)):\n",
    "        stream_data[i] = next(color_vals)\n",
    "    return stream_data\n",
    "\n",
    "\n",
    "# Create a writing stream to sets color for every atom in the complex.\n",
    "atom_indices = [atom.index for atom in comp.atoms]\n",
    "stream_type = StreamType.color\n",
    "stream = plugin.create_writing_stream(atom_indices, stream_type)\n",
    "\n",
    "color_cycle = itertools.cycle(roygbiv)\n",
    "for color in color_cycle:\n",
    "    stream_data = set_color_stream_data(atom_indices, color)\n",
    "    plugin.update_stream(stream, stream_data)\n"
   ]
  }
 ],
 "metadata": {
  "kernelspec": {
   "display_name": "Python 3",
   "language": "python",
   "name": "python3"
  },
  "language_info": {
   "codemirror_mode": {
    "name": "ipython",
    "version": 3
   },
   "file_extension": ".py",
   "mimetype": "text/x-python",
   "name": "python",
   "nbconvert_exporter": "python",
   "pygments_lexer": "ipython3",
   "version": "3.9.18"
  }
 },
 "nbformat": 4,
 "nbformat_minor": 5
}
