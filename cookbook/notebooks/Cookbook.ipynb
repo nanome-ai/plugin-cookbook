{
 "cells": [
  {
   "cell_type": "markdown",
   "metadata": {},
   "source": [
    "# Nanome Receipes\n",
    "\n",
    "This cookbook aims to give code snippets containing common operations for Nanome Plugins. "
   ]
  },
  {
   "cell_type": "markdown",
   "metadata": {},
   "source": [
    "# IO <a name=\"io\"></a>"
   ]
  },
  {
   "cell_type": "markdown",
   "metadata": {},
   "source": [
    "## Read the structures in a file"
   ]
  },
  {
   "cell_type": "markdown",
   "metadata": {},
   "source": [
    "Use the <a href='https://github.com/nanome-ai/nanome-lib/blob/76e600faaa797e5774616e5df9d5e9c9a88dd0ec/nanome/api/structure/io/complex_io.py#L5'>io</a> attribute on the Complex model to read from a file. We support file formats `.mmcif`, `.pdb`, `.sdf`"
   ]
  },
  {
   "cell_type": "code",
   "execution_count": null,
   "metadata": {},
   "outputs": [],
   "source": [
    "from nanome.api.structure import Complex\n",
    "\n",
    "# Read using filepath\n",
    "input_dir = 'assets/cookbook/benzene_241.sdf'\n",
    "comp = Complex.io.from_sdf(path=input_dir)\n",
    "\n",
    "# benzenes contain 12 atoms\n",
    "assert len(list(comp.molecules)) == 1\n",
    "assert len(list(comp.atoms)) == 12\n"
   ]
  },
  {
   "cell_type": "markdown",
   "metadata": {},
   "source": [
    "## Write a structure to a file"
   ]
  },
  {
   "cell_type": "code",
   "execution_count": null,
   "metadata": {},
   "outputs": [],
   "source": [
    "\"\"\"Read in sdf, and write structure to pdb file.\"\"\"\n",
    "\n",
    "import tempfile\n",
    "from nanome.api.structure import Complex\n",
    "\n",
    "# Read using filepath\n",
    "input_dir = 'assets/cookbook/benzene_241.sdf'\n",
    "comp = Complex.io.from_sdf(path=input_dir)\n",
    "\n",
    "# Write complex to new pdb file\n",
    "temp_pdb_file = tempfile.NamedTemporaryFile(delete=False, suffix='.pdb')\n",
    "comp.io.to_pdb(temp_pdb_file.name)\n",
    "with open(temp_pdb_file.name, 'r') as f:\n",
    "    print(f.read())"
   ]
  },
  {
   "cell_type": "markdown",
   "metadata": {},
   "source": [
    "# Structures\n",
    "\n",
    "We're defining Structures as classes coming from [nanome.api.structures](https://nanome.readthedocs.io/en/latest/nanome.api.structure.html)\n",
    "\n",
    "    - Workspace\n",
    "    - —-Complex\n",
    "    - ——– Molecule\n",
    "    - ————– Chain\n",
    "    - ——————– Residue\n",
    "    - ————————– Atom\n",
    "    - ————————– Bond\n",
    "\n"
   ]
  },
  {
   "cell_type": "markdown",
   "metadata": {},
   "source": [
    "## Get the name of a Complex"
   ]
  },
  {
   "cell_type": "code",
   "execution_count": null,
   "metadata": {},
   "outputs": [],
   "source": [
    "from nanome.api.structure import Complex\n",
    "\n",
    "# Read using filepath\n",
    "input_dir = 'assets/cookbook/benzene_241.sdf'\n",
    "comp = Complex.io.from_sdf(path=input_dir)\n",
    "comp.name = 'Benzene'\n",
    "\n",
    "print(comp.name)\n"
   ]
  },
  {
   "cell_type": "markdown",
   "metadata": {},
   "source": [
    "## Get the attributes of a Complex"
   ]
  },
  {
   "cell_type": "code",
   "execution_count": null,
   "metadata": {},
   "outputs": [],
   "source": [
    "from nanome.api.structure import Complex\n",
    "\n",
    "# Read using filepath\n",
    "input_dir = 'assets/cookbook/benzene_241.sdf'\n",
    "comp = Complex.io.from_sdf(path=input_dir)\n",
    "comp.name = 'Benzene'\n",
    "\n",
    "comp.name\n",
    "comp.molecules\n",
    "comp.chains\n",
    "comp.residues\n",
    "comp.atoms\n"
   ]
  },
  {
   "cell_type": "markdown",
   "metadata": {},
   "source": [
    "## Add a new property to a Complex"
   ]
  },
  {
   "cell_type": "markdown",
   "metadata": {},
   "source": [
    "It is common for us to add arbitrary data to our structures."
   ]
  },
  {
   "cell_type": "code",
   "execution_count": null,
   "metadata": {},
   "outputs": [],
   "source": [
    "from nanome.api.structure import Complex\n",
    "\n",
    "# Read using filepath\n",
    "input_dir = 'assets/cookbook/benzene_241.sdf'\n",
    "comp = Complex.io.from_sdf(path=input_dir)\n",
    "\n",
    "comp.new_property = 'blah blah blah'\n",
    "print(comp.new_property)\n"
   ]
  },
  {
   "cell_type": "markdown",
   "metadata": {},
   "source": [
    "## Get the index of a Structure\n",
    "\n",
    "the `index` field is used on Nanome structures to uniquely identify objects inside the application. For newly created objects not yet sent to the app, index defaults to -1, after the object is saved an index will be assigned"
   ]
  },
  {
   "cell_type": "code",
   "execution_count": null,
   "metadata": {},
   "outputs": [],
   "source": [
    "from nanome.api.structure import Complex\n",
    "\n",
    "input_dir = 'assets/cookbook/benzene_241.sdf'\n",
    "comp = Complex.io.from_sdf(path=input_dir)\n",
    "atom = next(comp.atoms)\n",
    "\n",
    "atom.index"
   ]
  },
  {
   "cell_type": "markdown",
   "metadata": {},
   "source": [
    "## Find all the atoms bonded to a given atom"
   ]
  },
  {
   "cell_type": "code",
   "execution_count": null,
   "metadata": {},
   "outputs": [],
   "source": [
    "from nanome.api.structure import Complex\n",
    "\n",
    "# Get list of atoms bonded to selected one\n",
    "input_dir = 'assets/cookbook/benzene_241.sdf'\n",
    "comp = Complex.io.from_sdf(path=input_dir)\n",
    "atom = next(comp.atoms)\n",
    "\n",
    "atom_set = set()\n",
    "for bond in atom.bonds:\n",
    "    atom_set.add(bond.atom1)\n",
    "    atom_set.add(bond.atom2)\n",
    "atom_set.remove(atom)\n",
    "print(atom_set)\n",
    "assert len(atom_set) == len(list(atom.bonds))"
   ]
  },
  {
   "cell_type": "markdown",
   "metadata": {},
   "source": [
    "## Determine the type of an atom bond\n",
    "\n",
    "We use the `bond.kind` attribute, which is an enum of possible bond types.\n",
    "Details [here](https://nanome.readthedocs.io/en/latest/nanome.util.enums.html#nanome.util.enums.Kind)\n",
    "- Unknown = 0\n",
    "- CovalentSingle = 1\n",
    "- CovalentDouble = 2\n",
    "- CovalentTriple = 3\n",
    "- Aromatic = 4\n",
    "\n"
   ]
  },
  {
   "cell_type": "code",
   "execution_count": null,
   "metadata": {},
   "outputs": [],
   "source": [
    "from nanome.api.structure import Complex\n",
    "\n",
    "input_dir = 'assets/cookbook/benzene_241.sdf'\n",
    "comp = Complex.io.from_sdf(path=input_dir)\n",
    "bond = next(comp.bonds)\n",
    "print(bond.kind)"
   ]
  },
  {
   "cell_type": "markdown",
   "metadata": {},
   "source": [
    "## Read protein residue order for each chain"
   ]
  },
  {
   "cell_type": "code",
   "execution_count": null,
   "metadata": {},
   "outputs": [],
   "source": [
    "\"\"\"Read in sdf, and write structure to pdb file.\"\"\"\n",
    "\n",
    "import tempfile\n",
    "from nanome.api.structure import Complex\n",
    "\n",
    "# Read using filepath\n",
    "input_dir = 'assets/cookbook/1tyl.pdb'\n",
    "comp = Complex.io.from_pdb(path=input_dir)\n",
    "\n",
    "for i, chain in enumerate(comp.chains):\n",
    "    print(f'Chain {i}')\n",
    "    for residue in chain.residues:\n",
    "        print(residue.name)\n",
    "    print('\\n')"
   ]
  },
  {
   "cell_type": "markdown",
   "metadata": {},
   "source": [
    "## Find all the bonds in a Complex"
   ]
  },
  {
   "cell_type": "code",
   "execution_count": null,
   "metadata": {},
   "outputs": [],
   "source": [
    "from nanome.api.structure import Complex\n",
    "\n",
    "input_dir = 'assets/cookbook/benzene_241.sdf'\n",
    "comp = Complex.io.from_sdf(path=input_dir)\n",
    "\n",
    "print(list(comp.bonds))\n"
   ]
  },
  {
   "cell_type": "markdown",
   "metadata": {},
   "source": [
    "## Find all the residues in a Complex"
   ]
  },
  {
   "cell_type": "code",
   "execution_count": null,
   "metadata": {},
   "outputs": [],
   "source": [
    "from nanome.api.structure import Complex\n",
    "\n",
    "input_dir = 'assets/cookbook/benzene_241.sdf'\n",
    "comp = Complex.io.from_sdf(path=input_dir)\n",
    "\n",
    "print(list(comp.residues))\n"
   ]
  },
  {
   "cell_type": "markdown",
   "metadata": {},
   "source": [
    "## Find all the molecules in a Complex"
   ]
  },
  {
   "cell_type": "code",
   "execution_count": null,
   "metadata": {},
   "outputs": [],
   "source": [
    "from nanome.api.structure import Complex\n",
    "\n",
    "input_dir = 'assets/cookbook/1tyl.pdb'\n",
    "comp = Complex.io.from_sdf(path=input_dir)\n",
    "\n",
    "print(list(comp.molecules))"
   ]
  },
  {
   "cell_type": "markdown",
   "metadata": {},
   "source": [
    "# Modifying and Building Structures"
   ]
  },
  {
   "cell_type": "markdown",
   "metadata": {},
   "source": [
    "## Delete atoms in a structure"
   ]
  },
  {
   "cell_type": "code",
   "execution_count": null,
   "metadata": {},
   "outputs": [],
   "source": [
    "from nanome.api.structure import Complex\n",
    "\n",
    "input_dir = 'assets/cookbook/1tyl.pdb'\n",
    "comp = Complex.io.from_pdb(path=input_dir)\n",
    "\n",
    "atom_count = len(list(comp.atoms))\n",
    "\n",
    "# Delete atom by removing it from it's residue\n",
    "atom = next(comp.atoms)\n",
    "residue = atom.residue\n",
    "residue.remove_atom(atom)\n",
    "\n",
    "new_atom_count = len(list(comp.atoms))\n",
    "assert new_atom_count == atom_count - 1"
   ]
  }
 ],
 "metadata": {
  "kernelspec": {
   "display_name": "Python 3",
   "language": "python",
   "name": "python3"
  },
  "language_info": {
   "codemirror_mode": {
    "name": "ipython",
    "version": 3
   },
   "file_extension": ".py",
   "mimetype": "text/x-python",
   "name": "python",
   "nbconvert_exporter": "python",
   "pygments_lexer": "ipython3",
   "version": "3.7.10"
  },
  "toc-autonumbering": false,
  "toc-showcode": false,
  "toc-showmarkdowntxt": false,
  "toc-showtags": true
 },
 "nbformat": 4,
 "nbformat_minor": 4
}
