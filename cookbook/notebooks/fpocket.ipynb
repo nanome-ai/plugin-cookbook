{
 "cells": [
  {
   "cell_type": "code",
   "execution_count": 146,
   "id": "9ecf40da-c178-4ff0-b2fc-800073745954",
   "metadata": {},
   "outputs": [
    {
     "data": {
      "application/vnd.jupyter.widget-view+json": {
       "model_id": "c6f129cc90b24ec88dd2139c37b294e1",
       "version_major": 2,
       "version_minor": 0
      },
      "text/plain": [
       "NGLWidget()"
      ]
     },
     "metadata": {},
     "output_type": "display_data"
    }
   ],
   "source": [
    "import nglview as nv\n",
    "import ipywidgets as widgets\n",
    "\n",
    "# Load a PDB file\n",
    "pdb_file = \"assets/5ceo.pdb\"\n",
    "\n",
    "\n",
    "view = nv.show_structure_file(pdb_file)\n",
    "view.representations = [\n",
    "    {\"type\": \"cartoon\", \"params\": {\n",
    "        \"sele\": \"protein\", \"color\": \"blue\"\n",
    "    }},\n",
    "    {\"type\": \"ball+stick\", \"params\": {\n",
    "        \"sele\": \"hetero\"\n",
    "    }}\n",
    "]\n",
    "# view = nv.show_pdbid(\"5ceo\")\n",
    "# view.clear_representations()\n",
    "# view.remove_cartoon()\n",
    "# view.add_cartoon(selection=\"protein\", color='blue')\n",
    "# view.add_surface(selection='protein', opacity=0.001)\n",
    "view.add_representation(\"ball+stick\", selection=\"LIG\")\n",
    "view"
   ]
  },
  {
   "cell_type": "code",
   "execution_count": 168,
   "id": "001827a6-f6fa-437f-b144-01a74b398fcd",
   "metadata": {},
   "outputs": [
    {
     "name": "stdout",
     "output_type": "stream",
     "text": [
      "Pocket 1\n",
      "Pocket 2\n",
      "Pocket 3\n",
      "Pocket 4\n",
      "Pocket 5\n",
      "Pocket 6\n",
      "Pocket 7\n",
      "Pocket 8\n",
      "Pocket 9\n",
      "Pocket 10\n",
      "Pocket 11\n",
      "Pocket 12\n",
      "Pocket 13\n",
      "Pocket 14\n",
      "Pocket 15 not found\n"
     ]
    }
   ],
   "source": [
    "# Cycle through pockets in NGLView\n",
    "from nanome.api.structure import Complex\n",
    "import os\n",
    "import time\n",
    "\n",
    "\n",
    "def view_pocket(view, fpocket_out, pocket_num):\n",
    "    pocket_file = f'{fpocket_out}/pockets/pocket{pocket_num}_atm.pdb'\n",
    "    if not os.path.exists(pocket_file):\n",
    "        print(f\"Pocket {pocket_num} not found\")\n",
    "        return False\n",
    "    view.remove_surface()\n",
    "    pocket_comp = Complex.io.from_pdb(path=pocket_file)\n",
    "    pocket_res_nums = sorted([res.serial for res in pocket_comp.residues])\n",
    "    view.add_surface(selection=pocket_res_nums, color='red', opacity=0.5)\n",
    "    return True\n",
    "\n",
    "fpocket_out = 'assets/5ceo_fpocket_out'\n",
    "view_pocket(view, fpocket_out, 2)\n",
    "# cycle_pocket_surfaces(view, fpocket_out)"
   ]
  },
  {
   "cell_type": "code",
   "execution_count": 169,
   "id": "a643d890-d34c-4fd3-91e7-77b6ef61bebb",
   "metadata": {},
   "outputs": [
    {
     "name": "stdout",
     "output_type": "stream",
     "text": [
      "Pocket 1\n",
      "Pocket 2\n",
      "Pocket 3\n",
      "Pocket 4\n",
      "Pocket 5\n",
      "Pocket 6\n",
      "Pocket 7\n",
      "Pocket 8\n",
      "Pocket 9\n",
      "Pocket 10\n",
      "Pocket 11\n",
      "Pocket 12\n",
      "Pocket 13\n",
      "Pocket 14\n"
     ]
    }
   ],
   "source": [
    "def cycle_pocket_surfaces(view, fpocket_out: str):\n",
    "    # Clear all other surface representations\n",
    "    i = 1\n",
    "    while True:\n",
    "        view.remove_surface()\n",
    "        pocket_file = f'{fpocket_out}/pockets/pocket{i}_atm.pdb'\n",
    "        if not os.path.exists(pocket_file):\n",
    "            break\n",
    "        success = view_pocket(view, fpocket_out, i)\n",
    "        if not success:\n",
    "            break\n",
    "        print(f\"Pocket {i}\")\n",
    "        time.sleep(1)\n",
    "        i += 1\n",
    "\n",
    "view\n",
    "cycle_pocket_surfaces(view, fpocket_out)"
   ]
  },
  {
   "cell_type": "code",
   "execution_count": null,
   "id": "8f047e74-cc7c-4c4c-8437-e6f6e452122f",
   "metadata": {},
   "outputs": [],
   "source": []
  }
 ],
 "metadata": {
  "kernelspec": {
   "display_name": "Python 3",
   "language": "python",
   "name": "python3"
  },
  "language_info": {
   "codemirror_mode": {
    "name": "ipython",
    "version": 3
   },
   "file_extension": ".py",
   "mimetype": "text/x-python",
   "name": "python",
   "nbconvert_exporter": "python",
   "pygments_lexer": "ipython3",
   "version": "3.9.18"
  }
 },
 "nbformat": 4,
 "nbformat_minor": 5
}
