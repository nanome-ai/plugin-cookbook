{
 "cells": [
  {
   "cell_type": "code",
   "execution_count": 3,
   "id": "381bc757-d397-4a2f-b9ef-74dd0def85ba",
   "metadata": {},
   "outputs": [
    {
     "name": "stdout",
     "output_type": "stream",
     "text": [
      "Hello\n"
     ]
    }
   ],
   "source": [
    "import sys\n",
    "\n",
    "# Set up redis credentials\n",
    "redis_host = 'redis'\n",
    "redis_port = 6379\n",
    "redis_password = ''\n",
    "\n",
    "# When your PluginService is running, you can get your channel value from the Logs, or from the query parameter in your open browser.\n",
    "# Update this value to match that, so that your commands will run against your live workspace.\n",
    "redis_channel = 'a5100bcd-3b33-48dc-a8b0-67f88182f24e'\n",
    "\n",
    "# Increase the recursion limit in order to properly serialize Complexes\n",
    "recursion_limit = 10000\n",
    "sys.setrecursionlimit(recursion_limit)\n",
    "\n",
    "print(\"Hello\")"
   ]
  },
  {
   "cell_type": "code",
   "execution_count": 4,
   "id": "73721dc0-37ce-4ffc-8cf5-ed8a0ed46f14",
   "metadata": {},
   "outputs": [],
   "source": [
    "from nanome.util.enums import StreamType\n",
    "from nanome.interface import PluginInstanceRedisInterface\n",
    "\n",
    "class ColorStreamPlugin(PluginInstanceRedisInterface):\n",
    "\n",
    "    def __init__(self, redis_host, redis_port, redis_password, redis_channel=None):\n",
    "        super().__init__(redis_host, redis_port, redis_password, redis_channel)\n",
    "        # RGB values of the rainbow\n",
    "        self.color_index = 0\n",
    "        self.roygbiv = [\n",
    "            (255, 0, 0),  # Red\n",
    "            (255, 127, 0),  # Orange\n",
    "            (255, 255, 0),  # Yellow\n",
    "            (0, 255, 0),  # Green\n",
    "            (0, 0, 255),  # Blue\n",
    "            (75, 0, 130),  # Indigo\n",
    "            (148, 0, 211),  # Violet\n",
    "        ]\n",
    "    \n",
    "    def cycle_color(self, comp_indices):\n",
    "        \"\"\"For all atom in selected complexes, change their color.\"\"\"\n",
    "        comps = self.request_complexes(comp_indices)\n",
    "        new_color_rgba = self.roygbiv[self.color_index]\n",
    "\n",
    "        # Create a writing stream to set colors for every atom in the complexes.\n",
    "        stream_type = StreamType.color\n",
    "        atom_indices = []\n",
    "        for comp in comps:\n",
    "            atom_indices.extend([atom.index for atom in comp.atoms])\n",
    "\n",
    "        stream, error = self.create_writing_stream(atom_indices, stream_type)\n",
    "        if error:\n",
    "            raise Exception(f\"Stream failed to initialize, Please try again. {self.error}\")\n",
    "\n",
    "        # Set the color for every atom in the stream.\n",
    "        stream_data = []\n",
    "        for _ in atom_indices:\n",
    "            stream_data.extend(new_color_rgba)\n",
    "        self.color_index = (self.color_index + 1) % len(self.roygbiv)\n",
    "        stream.update(stream_data)\n"
   ]
  },
  {
   "cell_type": "code",
   "execution_count": 5,
   "id": "b490574e-6824-4cf5-8cc6-f48e43dc691f",
   "metadata": {},
   "outputs": [],
   "source": [
    "plugin_instance = ColorStreamPlugin(redis_host, redis_port, redis_password, redis_channel=redis_channel)"
   ]
  },
  {
   "cell_type": "code",
   "execution_count": 6,
   "id": "8b82a3ae-c281-4cb9-9435-7dd57b0407ef",
   "metadata": {
    "tags": []
   },
   "outputs": [
    {
     "name": "stdout",
     "output_type": "stream",
     "text": [
      "\u001b[0mSending request_complex_list Request to Redis Channel a5100bcd-3b33-48dc-a8b0-67f88182f24e\u001b[0m\n",
      "\u001b[0mResponse received on channel 1f4fb39b-bf0e-4f77-8c8f-f339a468668b\u001b[0m\n",
      "<nanome.api.structure.complex.Complex object at 0x7fd113aebd00>\n"
     ]
    }
   ],
   "source": [
    "comps = plugin_instance.request_complex_list()\n",
    "comp = comps[0]\n",
    "print(comp)\n",
    "             "
   ]
  },
  {
   "cell_type": "code",
   "execution_count": 9,
   "id": "0a07c480-b68a-41d0-b60e-ec333f932dd4",
   "metadata": {},
   "outputs": [
    {
     "name": "stdout",
     "output_type": "stream",
     "text": [
      "changing comp color\n",
      "\u001b[0mSending request_complexes Request to Redis Channel a5100bcd-3b33-48dc-a8b0-67f88182f24e\u001b[0m\n",
      "\u001b[0mResponse received on channel 5efc6044-3beb-4484-9ac8-4c785f8f7851\u001b[0m\n",
      "\u001b[0mSending create_writing_stream Request to Redis Channel a5100bcd-3b33-48dc-a8b0-67f88182f24e\u001b[0m\n",
      "\u001b[0mResponse received on channel 0e3b8a3c-2d31-4416-868a-c19f2d139a08\u001b[0m\n",
      "\u001b[0mSending stream_update Request to Redis Channel a5100bcd-3b33-48dc-a8b0-67f88182f24e\u001b[0m\n",
      "\u001b[0mResponse received on channel e63b493d-dba9-41ab-8c3b-f62c7b5acc7f\u001b[0m\n"
     ]
    }
   ],
   "source": [
    "# Changing complex color\n",
    "print(\"changing comp color\")\n",
    "plugin_instance.cycle_color([comp.index])"
   ]
  },
  {
   "cell_type": "code",
   "execution_count": null,
   "id": "461914bc-4877-4922-9087-408a57796cdb",
   "metadata": {},
   "outputs": [],
   "source": []
  }
 ],
 "metadata": {
  "kernelspec": {
   "display_name": "Python 3",
   "language": "python",
   "name": "python3"
  },
  "language_info": {
   "codemirror_mode": {
    "name": "ipython",
    "version": 3
   },
   "file_extension": ".py",
   "mimetype": "text/x-python",
   "name": "python",
   "nbconvert_exporter": "python",
   "pygments_lexer": "ipython3",
   "version": "3.9.5"
  }
 },
 "nbformat": 4,
 "nbformat_minor": 5
}
