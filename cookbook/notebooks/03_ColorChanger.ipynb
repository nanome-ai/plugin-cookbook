{
 "cells": [
  {
   "cell_type": "code",
   "execution_count": null,
   "id": "381bc757-d397-4a2f-b9ef-74dd0def85ba",
   "metadata": {},
   "outputs": [],
   "source": [
    "import sys; sys.path.insert(0, '..')  # Makes interface.py available\n",
    "from interface import PluginInstanceRedisInterface\n",
    "import os\n",
    "\n",
    "# Set up redis credentials\n",
    "redis_host = os.environ.get(\"REDIS_HOST\")\n",
    "redis_port = os.environ.get(\"REDIS_PORT\")\n",
    "redis_password = os.environ.get(\"REDIS_PASSWORD\")\n",
    "redis_channel = os.environ.get(\"REDIS_CHANNEL\")\n",
    "\n",
    "plugin_instance = PluginInstanceRedisInterface(redis_host, redis_port, redis_password, redis_channel)\n",
    "plugin_instance.ping()\n",
    "print('Plugin Connected')"
   ]
  },
  {
   "cell_type": "code",
   "execution_count": null,
   "id": "73721dc0-37ce-4ffc-8cf5-ed8a0ed46f14",
   "metadata": {},
   "outputs": [],
   "source": [
    "from nanome.util.enums import StreamType\n",
    "from interface import PluginInstanceRedisInterface\n",
    "\n",
    "class ColorStreamPlugin(PluginInstanceRedisInterface):\n",
    "\n",
    "    def __init__(self, redis_host, redis_port, redis_password, redis_channel=None):\n",
    "        super().__init__(redis_host, redis_port, redis_password, redis_channel)\n",
    "        # RGB values of the rainbow\n",
    "        self.color_index = 0\n",
    "        self.roygbiv = [\n",
    "            (255, 0, 0),  # Red\n",
    "            (255, 127, 0),  # Orange\n",
    "            (255, 255, 0),  # Yellow\n",
    "            (0, 255, 0),  # Green\n",
    "            (0, 0, 255),  # Blue\n",
    "            (75, 0, 130),  # Indigo\n",
    "            (148, 0, 211),  # Violet\n",
    "        ]\n",
    "\n",
    "    def cycle_color(self, comp_indices):\n",
    "        \"\"\"For all atom in selected complexes, change their color.\"\"\"\n",
    "        print(\"Getting Comp\")\n",
    "        comps = self.request_complexes(comp_indices)\n",
    "        new_color_rgba = self.roygbiv[self.color_index]\n",
    "\n",
    "        # Create a writing stream to set colors for every atom in the complexes.\n",
    "        stream_type = StreamType.color\n",
    "        atom_indices = []\n",
    "        for comp in comps:\n",
    "            atom_indices.extend([atom.index for atom in comp.atoms])\n",
    "\n",
    "        print(\"Creating Writing Stream\")\n",
    "        stream = self.create_writing_stream(atom_indices, stream_type)\n",
    "\n",
    "        # Set the color for every atom in the stream.\n",
    "        stream_data = []\n",
    "        for _ in atom_indices:\n",
    "            stream_data.extend(new_color_rgba)\n",
    "        self.color_index = (self.color_index + 1) % len(self.roygbiv)\n",
    "        print(\"Updating Stream\")\n",
    "        plugin_instance.stream_update(stream.id, stream_data)\n",
    "\n",
    "plugin_instance = ColorStreamPlugin(redis_host, redis_port, redis_password, redis_channel=redis_channel)\n"
   ]
  },
  {
   "cell_type": "code",
   "execution_count": null,
   "id": "8b82a3ae-c281-4cb9-9435-7dd57b0407ef",
   "metadata": {
    "tags": []
   },
   "outputs": [],
   "source": [
    "comps = plugin_instance.request_complex_list()\n",
    "comp = comps[0]\n",
    "print(comp)\n"
   ]
  },
  {
   "cell_type": "code",
   "execution_count": null,
   "id": "0a07c480-b68a-41d0-b60e-ec333f932dd4",
   "metadata": {},
   "outputs": [],
   "source": [
    "# Changing complex color\n",
    "plugin_instance.cycle_color([comp.index])"
   ]
  }
 ],
 "metadata": {
  "kernelspec": {
   "display_name": "Python 3",
   "language": "python",
   "name": "python3"
  },
  "language_info": {
   "codemirror_mode": {
    "name": "ipython",
    "version": 3
   },
   "file_extension": ".py",
   "mimetype": "text/x-python",
   "name": "python",
   "nbconvert_exporter": "python",
   "pygments_lexer": "ipython3",
   "version": "3.9.5"
  }
 },
 "nbformat": 4,
 "nbformat_minor": 5
}
