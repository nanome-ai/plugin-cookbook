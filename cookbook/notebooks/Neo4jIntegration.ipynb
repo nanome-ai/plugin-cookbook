{
 "cells": [
  {
   "cell_type": "code",
   "execution_count": null,
   "id": "381bc757-d397-4a2f-b9ef-74dd0def85ba",
   "metadata": {},
   "outputs": [],
   "source": [
    "# NOTE: For this notebook to work, the neo4j service must be set up.\n",
    "\n",
    "import os\n",
    "\n",
    "from interface import PluginInstanceRedisInterface\n",
    "\n",
    "# Set up redis credentials\n",
    "redis_host = 'redis'\n",
    "redis_port = 6379\n",
    "redis_password = ''\n",
    "\n",
    "# When your PluginService is running, you can get your channel value from the Logs, or from the query parameter in your open browser.\n",
    "# Update this value to match that, so that your commands will run against your live workspace.\n",
    "redis_channel = os.environ.get('REDIS_CHANNEL')\n",
    "\n",
    "plugin_instance = PluginInstanceRedisInterface(redis_host, redis_port, redis_password, redis_channel)\n",
    "print('Hello')"
   ]
  },
  {
   "cell_type": "code",
   "execution_count": null,
   "id": "8b82a3ae-c281-4cb9-9435-7dd57b0407ef",
   "metadata": {
    "tags": []
   },
   "outputs": [],
   "source": [
    "# Test connection to Session\n",
    "comps = plugin_instance.request_complex_list()\n",
    "print(comps)"
   ]
  },
  {
   "cell_type": "code",
   "execution_count": null,
   "id": "c49cf1cb-5c08-4842-a029-3c14e6a9cc6d",
   "metadata": {},
   "outputs": [],
   "source": [
    "# neo4j setup\n",
    "from py2neo import Graph, Node, Relationship\n",
    "\n",
    "neo4j_uri = 'bolt://neo4j:7687/'\n",
    "username = 'neo4j'\n",
    "password = 'yourpasswordhere'\n",
    "graph = Graph(neo4j_uri, auth=(username, password))\n"
   ]
  },
  {
   "cell_type": "code",
   "execution_count": null,
   "id": "0bee5a56-0f91-4736-8801-0fe2e041e0f1",
   "metadata": {},
   "outputs": [],
   "source": [
    "# Create neo4j database\n",
    "# with open(\"assets/neo4j_movie_graph_query.txt\") as f:\n",
    "#     query_string = f.read()\n",
    "# results = graph.run(query_string)\n",
    "# data = results.data()"
   ]
  },
  {
   "cell_type": "code",
   "execution_count": null,
   "id": "f9df97db-41dd-49de-a57a-9ea8c7986e66",
   "metadata": {},
   "outputs": [],
   "source": [
    "from nanome.api import structure\n",
    "from nanome.util import Vector3, Color\n",
    "\n",
    "def create_node_complex(node, atom_position):\n",
    "    comp = structure.Complex()\n",
    "    mol = structure.Molecule()\n",
    "    chain = structure.Chain()\n",
    "    res = structure.Residue()\n",
    "    atom = structure.Atom()\n",
    "\n",
    "    atom.position = atom_position\n",
    "    atom.labeled = True\n",
    "\n",
    "    label_text = ''\n",
    "    if node.labels.__str__() == ':Movie':\n",
    "        # Movie node\n",
    "        label_text = node['title']\n",
    "        atom.atom_color = Color(0, 255, 0)\n",
    "    else:\n",
    "        # Person Node\n",
    "        label_text = node['name']\n",
    "        atom.atom_color = Color(0, 0, 255)\n",
    "    atom.label_text = label_text\n",
    "    res.add_atom(atom)\n",
    "    chain.add_residue(res)\n",
    "    mol.add_chain(chain)\n",
    "    comp.add_molecule(mol)\n",
    "    comp.name = atom.label_text\n",
    "    return comp\n"
   ]
  },
  {
   "cell_type": "code",
   "execution_count": null,
   "id": "ad447668-0881-49ce-b2f2-991e80ca6ed6",
   "metadata": {},
   "outputs": [],
   "source": [
    "import nanome\n",
    "from nanome.api.shapes import Label, Line, Shape\n",
    "\n",
    "def draw_relationship_line(struct1, struct2):\n",
    "    \"\"\"Draw line connecting two structs.\n",
    "\n",
    "    :arg struct1: struct\n",
    "    :arg struct2: struct\n",
    "    :arg line_settings: Dict describing shape and color of line based on interaction_type\n",
    "    \"\"\"\n",
    "    line = Line()\n",
    "    for struct, anchor in zip([struct1, struct2], line.anchors):\n",
    "        anchor.anchor_type = nanome.util.enums.ShapeAnchorType.Atom\n",
    "        anchor.target = next(struct.atoms).index\n",
    "    return line\n",
    "    "
   ]
  },
  {
   "cell_type": "code",
   "execution_count": null,
   "id": "a97f7341-a740-47c3-b61b-7eeb951d5e75",
   "metadata": {},
   "outputs": [],
   "source": [
    "import random\n",
    "\n",
    "def get_or_create_comp_node(node, comp_nodes, position):\n",
    "    label_text = ''\n",
    "    created = False\n",
    "    if node.labels.__str__() == ':Movie':\n",
    "        # Movie node\n",
    "        label_text = node['title']\n",
    "    else:\n",
    "        # Person Node\n",
    "        label_text = node['name']\n",
    "    if label_text not in [comp.name for comp in comp_nodes]:\n",
    "        comp_node = create_node_complex(node, position)\n",
    "        comp_node = plugin_instance.add_to_workspace([comp_node])[0]\n",
    "        comp_nodes.append(comp_node)\n",
    "        created = True\n",
    "    else:\n",
    "        comp_node = next(iter(comp for comp in comp_nodes if comp.name == label_text))\n",
    "    return comp_node, created\n",
    "\n",
    "def render_results(path_results):\n",
    "#     position = Vector3(15, 15, 15)\n",
    "    comp_nodes = []\n",
    "\n",
    "    for record in path_results:\n",
    "        path = record['p']\n",
    "        rels = path.relationships\n",
    "        path_nodes = []\n",
    "        for rel in rels:\n",
    "            start_node = rel.start_node\n",
    "            end_node = rel.end_node\n",
    "            min_val = 40\n",
    "            max_val = 80\n",
    "            position = Vector3(random.randrange(min_val, max_val), random.randrange(min_val, max_val), random.randrange(min_val, max_val))\n",
    "            start_comp_node, created = get_or_create_comp_node(start_node, comp_nodes, position)\n",
    "            position = Vector3(random.randrange(min_val, max_val), random.randrange(min_val, max_val), random.randrange(min_val, max_val))\n",
    "            end_comp_node, created = get_or_create_comp_node(end_node, comp_nodes, position)\n",
    "        line = draw_relationship_line(start_comp_node, end_comp_node)\n",
    "        plugin_instance.upload_shapes([line])\n",
    "    return comp_nodes\n"
   ]
  },
  {
   "cell_type": "code",
   "execution_count": null,
   "id": "67cc5153-bc09-4998-8510-732f2ec90c55",
   "metadata": {},
   "outputs": [],
   "source": [
    "from nanome.api.structure import Workspace\n",
    "\n",
    "ws = Workspace()\n",
    "plugin_instance.update_workspace(ws)\n",
    "result = graph.run(\"MATCH p=()-[r:ACTED_IN]->() RETURN p LIMIT 25\")\n",
    "node_list = render_results(result)\n"
   ]
  },
  {
   "cell_type": "code",
   "execution_count": null,
   "id": "96e38382-52b8-4935-ae87-803209e6a454",
   "metadata": {},
   "outputs": [],
   "source": []
  }
 ],
 "metadata": {
  "kernelspec": {
   "display_name": "Python 3",
   "language": "python",
   "name": "python3"
  },
  "language_info": {
   "codemirror_mode": {
    "name": "ipython",
    "version": 3
   },
   "file_extension": ".py",
   "mimetype": "text/x-python",
   "name": "python",
   "nbconvert_exporter": "python",
   "pygments_lexer": "ipython3",
   "version": "3.9.5"
  }
 },
 "nbformat": 4,
 "nbformat_minor": 5
}
