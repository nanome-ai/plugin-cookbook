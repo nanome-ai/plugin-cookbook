{
 "cells": [
  {
   "cell_type": "code",
   "execution_count": 5,
   "id": "98a75097-edbe-4795-8732-c282f8f9c351",
   "metadata": {},
   "outputs": [
    {
     "name": "stdout",
     "output_type": "stream",
     "text": [
      "Hello\n"
     ]
    }
   ],
   "source": [
    "from notebooks.interface import PluginInstanceRedisInterface\n",
    "import os\n",
    "import sys\n",
    "\n",
    "# Set up redis credentials\n",
    "redis_host = 'redis'\n",
    "redis_port = 6379\n",
    "redis_password = ''\n",
    "\n",
    "# When your PluginService is running, you can get your channel value from the Logs, or from the query parameter in your open browser.\n",
    "# Update this value to match that, so that your commands will run against your live workspace.\n",
    "redis_channel = os.environ.get(\"REDIS_CHANNEL\")\n",
    "\n",
    "# Increase the recursion limit in order to properly serialize Complexes\n",
    "recursion_limit = 10000\n",
    "sys.setrecursionlimit(recursion_limit)\n",
    "\n",
    "plugin_instance = PluginInstanceRedisInterface(redis_host, redis_port, redis_password, redis_channel)\n",
    "print('Hello')"
   ]
  },
  {
   "cell_type": "code",
   "execution_count": 4,
   "id": "ac57f927-5b1f-4fbe-8e96-ee96cd8f1b68",
   "metadata": {},
   "outputs": [
    {
     "name": "stdout",
     "output_type": "stream",
     "text": [
      "\u001b[0mSending request_complex_list Request to Redis Channel a5100bcd-3b33-48dc-a8b0-67f88182f24e\u001b[0m\n",
      "\u001b[0mResponse received on channel d9969a28-7d8f-4063-ac2e-799c1deed418\u001b[0m\n",
      "[<nanome.api.structure.complex.Complex object at 0x7f6dc05af5e0>, <nanome.api.structure.complex.Complex object at 0x7f6dc05afca0>]\n",
      "\u001b[0mSending request_complexes Request to Redis Channel a5100bcd-3b33-48dc-a8b0-67f88182f24e\u001b[0m\n",
      "\u001b[0mResponse received on channel 97b4a14f-4894-41cc-bc31-da21cabeea02\u001b[0m\n"
     ]
    }
   ],
   "source": [
    "# Test connection to Session\n",
    "comps = plugin_instance.request_complex_list()\n",
    "print(comps)\n",
    "# comp = comps[0]\n",
    "# comp = plugin_instance.request_complexes([comp.index])[0]"
   ]
  },
  {
   "cell_type": "code",
   "execution_count": null,
   "id": "7f98db9e-0ed7-47c5-ba98-03f3a9c2ff03",
   "metadata": {},
   "outputs": [],
   "source": []
  }
 ],
 "metadata": {
  "kernelspec": {
   "display_name": "Python 3",
   "language": "python",
   "name": "python3"
  },
  "language_info": {
   "codemirror_mode": {
    "name": "ipython",
    "version": 3
   },
   "file_extension": ".py",
   "mimetype": "text/x-python",
   "name": "python",
   "nbconvert_exporter": "python",
   "pygments_lexer": "ipython3",
   "version": "3.9.5"
  }
 },
 "nbformat": 4,
 "nbformat_minor": 5
}
