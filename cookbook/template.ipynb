{
 "cells": [
  {
   "cell_type": "code",
   "execution_count": 1,
   "id": "98a75097-edbe-4795-8732-c282f8f9c351",
   "metadata": {},
   "outputs": [
    {
     "name": "stdout",
     "output_type": "stream",
     "text": [
      "Hello\n"
     ]
    }
   ],
   "source": [
    "from interface import PluginInstanceRedisInterface\n",
    "import os\n",
    "\n",
    "# Set up redis credentials\n",
    "redis_host = 'redis'\n",
    "redis_port = 6379\n",
    "redis_password = ''\n",
    "\n",
    "# When your PluginService is running, you can get your channel value from the Logs, or from the query parameter in your open browser.\n",
    "# Update this value to match that, so that your commands will run against your live workspace.\n",
    "redis_channel = os.environ.get(\"REDIS_CHANNEL\")\n",
    "\n",
    "plugin_instance = PluginInstanceRedisInterface(redis_host, redis_port, redis_password, redis_channel)\n",
    "print('Hello')"
   ]
  },
  {
   "cell_type": "code",
   "execution_count": 2,
   "id": "ac57f927-5b1f-4fbe-8e96-ee96cd8f1b68",
   "metadata": {},
   "outputs": [
    {
     "name": "stdout",
     "output_type": "stream",
     "text": [
      "\u001b[0mSending request_complex_list Request to Redis Channel a5100bcd-3b33-48dc-a8b0-67f88182f24e\u001b[0m\n",
      "\u001b[0mResponse received on channel beba6c76-c195-42f3-898a-a60ece26964c\u001b[0m\n",
      "[]\n"
     ]
    }
   ],
   "source": [
    "# Test connection to Session\n",
    "comps = plugin_instance.request_complex_list()\n",
    "print(comps)\n",
    "# comp = comps[0]\n",
    "# comp = plugin_instance.request_complexes([comp.index])[0]"
   ]
  },
  {
   "cell_type": "code",
   "execution_count": 4,
   "id": "fc0b21cb-a4aa-4e09-b08f-a9272af5db36",
   "metadata": {},
   "outputs": [
    {
     "data": {
      "application/javascript": [
       "function getQueryStringValue (key)\n",
       "{  \n",
       "    return unescape(window.location.search.replace(new RegExp(\"^(?:.*[&\\\\?]\" + escape(key).replace(/[\\.\\+\\*]/g, \"\\\\$&\") + \"(?:\\\\=([^&]*))?)?.*$\", \"i\"), \"$1\"));\n",
       "}\n",
       "IPython.notebook.kernel.execute(\"Var1='\".concat(getQueryStringValue(\"Variable1\")).concat(\"'\"));\n",
       "IPython.notebook.kernel.execute(\"Var2='\".concat(getQueryStringValue(\"Variable2\")).concat(\"'\")); \n"
      ],
      "text/plain": [
       "<IPython.core.display.Javascript object>"
      ]
     },
     "metadata": {},
     "output_type": "display_data"
    }
   ],
   "source": [
    "%%javascript\n",
    "function getQueryStringValue (key)\n",
    "{  \n",
    "    return unescape(window.location.search.replace(new RegExp(\"^(?:.*[&\\\\?]\" + escape(key).replace(/[\\.\\+\\*]/g, \"\\\\$&\") + \"(?:\\\\=([^&]*))?)?.*$\", \"i\"), \"$1\"));\n",
    "}\n",
    "IPython.notebook.kernel.execute(\"Var1='\".concat(getQueryStringValue(\"Variable1\")).concat(\"'\"));\n",
    "IPython.notebook.kernel.execute(\"Var2='\".concat(getQueryStringValue(\"Variable2\")).concat(\"'\")); "
   ]
  },
  {
   "cell_type": "code",
   "execution_count": null,
   "id": "94860d07-116e-4e4c-ad84-64bd5f378194",
   "metadata": {},
   "outputs": [],
   "source": []
  }
 ],
 "metadata": {
  "kernelspec": {
   "display_name": "Python 3",
   "language": "python",
   "name": "python3"
  },
  "language_info": {
   "codemirror_mode": {
    "name": "ipython",
    "version": 3
   },
   "file_extension": ".py",
   "mimetype": "text/x-python",
   "name": "python",
   "nbconvert_exporter": "python",
   "pygments_lexer": "ipython3",
   "version": "3.9.5"
  }
 },
 "nbformat": 4,
 "nbformat_minor": 5
}
