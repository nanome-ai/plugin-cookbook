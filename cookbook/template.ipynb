{
 "cells": [
  {
   "cell_type": "code",
   "execution_count": null,
   "id": "98a75097-edbe-4795-8732-c282f8f9c351",
   "metadata": {},
   "outputs": [],
   "source": [
    "from nanome.interface import PluginInstanceRedisInterface\n",
    "import os\n",
    "\n",
    "# Set up redis credentials\n",
    "redis_host = 'redis'\n",
    "redis_port = 6379\n",
    "redis_password = ''\n",
    "\n",
    "# When your PluginService is running, you can get your channel value from the Logs, or from the query parameter in your open browser.\n",
    "# Update this value to match that, so that your commands will run against your live workspace.\n",
    "redis_channel = os.environ.get(\"REDIS_CHANNEL\")\n",
    "\n",
    "plugin_instance = PluginInstanceRedisInterface(redis_host, redis_port, redis_password, redis_channel)\n",
    "print('Hello')"
   ]
  },
  {
   "cell_type": "code",
   "execution_count": null,
   "id": "ac57f927-5b1f-4fbe-8e96-ee96cd8f1b68",
   "metadata": {},
   "outputs": [],
   "source": [
    "# Test connection to Session\n",
    "comps = plugin_instance.request_complex_list()\n",
    "print(comps)"
   ]
  },
  {
   "cell_type": "code",
   "execution_count": null,
   "id": "7f98db9e-0ed7-47c5-ba98-03f3a9c2ff03",
   "metadata": {},
   "outputs": [],
   "source": []
  }
 ],
 "metadata": {
  "interpreter": {
   "hash": "735f04010a29601abbd6e7f65fc72cf66253766da42fa8993cb0ff9b13208bcb"
  },
  "kernelspec": {
   "display_name": "Python 3.9.0 64-bit ('3.9.0')",
   "language": "python",
   "name": "python3"
  },
  "language_info": {
   "codemirror_mode": {
    "name": "ipython",
    "version": 3
   },
   "file_extension": ".py",
   "mimetype": "text/x-python",
   "name": "python",
   "nbconvert_exporter": "python",
   "pygments_lexer": "ipython3",
   "version": "3.9.0"
  }
 },
 "nbformat": 4,
 "nbformat_minor": 5
}
