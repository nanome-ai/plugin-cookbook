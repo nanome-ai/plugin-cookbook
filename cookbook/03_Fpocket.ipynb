{
 "cells": [
  {
   "cell_type": "code",
   "execution_count": 1,
   "id": "9ecf40da-c178-4ff0-b2fc-800073745954",
   "metadata": {},
   "outputs": [
    {
     "data": {
      "application/vnd.jupyter.widget-view+json": {
       "model_id": "8d253f6612024a75a5058d6dc5159496",
       "version_major": 2,
       "version_minor": 0
      },
      "text/plain": []
     },
     "metadata": {},
     "output_type": "display_data"
    }
   ],
   "source": [
    "from nanome.api.structure import Complex\n",
    "import os\n",
    "import time\n",
    "import nglview as nv\n",
    "\n",
    "# PDB file and fpocket results\n",
    "pdb_file = \"test_data/5ceo.pdb\"\n",
    "fpocket_out = 'test_data/5ceo_fpocket_out'\n"
   ]
  },
  {
   "cell_type": "code",
   "execution_count": 6,
   "id": "001827a6-f6fa-437f-b144-01a74b398fcd",
   "metadata": {},
   "outputs": [],
   "source": [
    "# Lets view a particular pocket number in NGLView\n",
    "view = nv.show_structure_file(pdb_file)\n",
    "view.representations = [\n",
    "    {\"type\": \"cartoon\", \"params\": {\n",
    "        \"sele\": \"protein\", \"color\": \"blue\"\n",
    "    }},\n",
    "    {\"type\": \"ball+stick\", \"params\": {\n",
    "        \"sele\": \"hetero\"\n",
    "    }}\n",
    "]\n",
    "view.add_representation(\"ball+stick\", selection=\"LIG\")\n"
   ]
  },
  {
   "cell_type": "code",
   "execution_count": 7,
   "id": "986454c4-22d7-4249-936c-123883cec4f6",
   "metadata": {},
   "outputs": [
    {
     "data": {
      "application/vnd.jupyter.widget-view+json": {
       "model_id": "47b35387f7f6412e807bf1dc0f0dd7f8",
       "version_major": 2,
       "version_minor": 0
      },
      "text/plain": [
       "NGLWidget()"
      ]
     },
     "metadata": {},
     "output_type": "display_data"
    }
   ],
   "source": [
    "# Lets view a specific pocket number from the output\n",
    "def view_pocket(view, fpocket_out, pocket_num):\n",
    "    pocket_file = f'{fpocket_out}/pockets/pocket{pocket_num}_atm.pdb'\n",
    "    if not os.path.exists(pocket_file):\n",
    "        print(f\"Pocket {pocket_num} not found\")\n",
    "        return False\n",
    "    view.remove_surface()\n",
    "    pocket_comp = Complex.io.from_pdb(path=pocket_file)\n",
    "    pocket_res_nums = sorted([res.serial for res in pocket_comp.residues])\n",
    "    view.add_surface(selection=pocket_res_nums, color='red', opacity=0.1)\n",
    "    return True\n",
    "\n",
    "pocket_number = 1\n",
    "view_pocket(view, fpocket_out, pocket_number)\n",
    "view"
   ]
  },
  {
   "cell_type": "code",
   "execution_count": 8,
   "id": "a643d890-d34c-4fd3-91e7-77b6ef61bebb",
   "metadata": {},
   "outputs": [
    {
     "name": "stdout",
     "output_type": "stream",
     "text": [
      "Pocket 1\n",
      "Pocket 2\n",
      "Pocket 3\n",
      "Pocket 4\n",
      "Pocket 5\n",
      "Pocket 6\n",
      "Pocket 7\n",
      "Pocket 8\n",
      "Pocket 9\n",
      "Pocket 10\n",
      "Pocket 11\n",
      "Pocket 12\n",
      "Pocket 13\n",
      "Pocket 14\n"
     ]
    }
   ],
   "source": [
    "def cycle_pocket_surfaces(view, fpocket_out: str):\n",
    "    # Clear all other surface representations\n",
    "    i = 1\n",
    "    while True:\n",
    "        view.remove_surface()\n",
    "        pocket_file = f'{fpocket_out}/pockets/pocket{i}_atm.pdb'\n",
    "        if not os.path.exists(pocket_file):\n",
    "            break\n",
    "        success = view_pocket(view, fpocket_out, i)\n",
    "        if not success:\n",
    "            break\n",
    "        print(f\"Pocket {i}\")\n",
    "        time.sleep(1)\n",
    "        i += 1\n",
    "\n",
    "view\n",
    "cycle_pocket_surfaces(view, fpocket_out)"
   ]
  },
  {
   "cell_type": "code",
   "execution_count": null,
   "id": "8f047e74-cc7c-4c4c-8437-e6f6e452122f",
   "metadata": {},
   "outputs": [],
   "source": [
    "# Set up nanome plugin\n",
    "import os\n",
    "from nanome.beta.redis_interface import PluginInstanceRedisInterface\n",
    "\n",
    "# Set up redis credentials\n",
    "redis_host = os.environ.get(\"REDIS_HOST\")\n",
    "redis_port = os.environ.get(\"REDIS_PORT\")\n",
    "redis_password = os.environ.get(\"REDIS_PASSWORD\")\n",
    "redis_channel = \"\"  # Use room id code you receive when activating cookbook plugin\n",
    "\n",
    "plugin = PluginInstanceRedisInterface(redis_host, redis_port, redis_password, redis_channel)\n",
    "plugin.connect()\n",
    "print('Plugin Connected')"
   ]
  },
  {
   "cell_type": "code",
   "execution_count": null,
   "id": "a6757956-19d7-4fda-9f49-74f0ebe73a1c",
   "metadata": {},
   "outputs": [],
   "source": [
    "plugin.send_files_to_load([pdb_file])"
   ]
  },
  {
   "cell_type": "code",
   "execution_count": null,
   "id": "319e4866-7e6f-4af3-b307-46844aeea60a",
   "metadata": {},
   "outputs": [],
   "source": [
    "comp = plugin.request_workspace().complexes[-1]"
   ]
  },
  {
   "cell_type": "code",
   "execution_count": null,
   "id": "c5b2291c-e61e-43a0-b08a-1a814b0707e3",
   "metadata": {},
   "outputs": [],
   "source": [
    "from nanome.util import Color\n",
    "from nanome.api.structure import Complex\n",
    "\n",
    "def render_pocket_surface(comp, fpocket_out, pocket_num):\n",
    "    pocket_file = f'{fpocket_out}/pockets/pocket{pocket_num}_atm.pdb'\n",
    "    if not os.path.exists(pocket_file):\n",
    "        print(f\"Pocket {pocket_num} not found\")\n",
    "        return False\n",
    "    pocket_comp = Complex.io.from_pdb(path=pocket_file)\n",
    "    pocket_res_nums = sorted([res.serial for res in pocket_comp.residues])\n",
    "    for res in comp.residues:\n",
    "        surface_color = Color.Red() if res.serial in pocket_res_nums else Color.Blue()\n",
    "        for atom in res.atoms:\n",
    "            atom.surface_rendering = True\n",
    "            atom.surface_color = surface_color\n",
    "    comp._surface_dirty = True\n",
    "\n",
    "pocket_number = 5\n",
    "render_pocket_surface(comp, fpocket_out, pocket_number)\n",
    "plugin.update_structures_deep([comp])\n"
   ]
  }
 ],
 "metadata": {
  "kernelspec": {
   "display_name": "Python 3",
   "language": "python",
   "name": "python3"
  },
  "language_info": {
   "codemirror_mode": {
    "name": "ipython",
    "version": 3
   },
   "file_extension": ".py",
   "mimetype": "text/x-python",
   "name": "python",
   "nbconvert_exporter": "python",
   "pygments_lexer": "ipython3",
   "version": "3.9.18"
  }
 },
 "nbformat": 4,
 "nbformat_minor": 5
}
