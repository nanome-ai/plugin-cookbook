{
 "cells": [
  {
   "cell_type": "markdown",
   "id": "ba581009-75d1-46a2-81cc-790ef6d92d12",
   "metadata": {},
   "source": [
    "# Rendering Fpocket results in Nanome\n",
    "\n",
    "## First we'll analyze results using NGLViewer.\n",
    "\n",
    "## Then we'll load data into Nanome\n"
   ]
  },
  {
   "cell_type": "code",
   "execution_count": null,
   "id": "8ac80790-ef72-4362-8fba-74c5dda2efca",
   "metadata": {},
   "outputs": [],
   "source": [
    "# Set up nanome plugin, which we'll use later\n",
    "import os\n",
    "from nanome.beta.redis_interface import PluginInstanceRedisInterface\n",
    "\n",
    "# Set up redis credentials\n",
    "redis_host = os.environ.get(\"REDIS_HOST\")\n",
    "redis_port = os.environ.get(\"REDIS_PORT\")\n",
    "redis_password = os.environ.get(\"REDIS_PASSWORD\")\n",
    "redis_channel = \"\"  # Use room id code you receive when activating cookbook plugin\n",
    "\n",
    "plugin = PluginInstanceRedisInterface(redis_host, redis_port, redis_password, redis_channel)\n",
    "plugin.connect()\n",
    "print('Plugin Connected')"
   ]
  },
  {
   "cell_type": "code",
   "execution_count": null,
   "id": "cb6e9d9a-7478-4e80-92ea-05e0a5dbc081",
   "metadata": {},
   "outputs": [],
   "source": [
    "import torch\n",
    "import esm\n",
    "\n",
    "# print(torch.cuda.is_available())\n",
    "# print(torch.cuda.get_device_name(0))\n",
    "\n",
    "# Load the ESMFold model\n",
    "model = esm.pretrained.esmfold_v1()\n",
    "print(\"Loaded the model\")\n",
    "\n",
    "model = model.eval() #.cuda()  # Assuming you have a CUDA-enabled GPU\n",
    "\n",
    "print(\"Evaluated the model\")\n",
    "# Example protein sequence\n",
    "sequence = \"MKTVRQERLKSIVRILERSKEP\"\n",
    "\n",
    "# Predict the 3D structure\n",
    "with torch.no_grad():\n",
    "    output = model.infer_pdb(sequence)\n",
    "\n",
    "# Save the predicted structure to a file\n",
    "with open(\"result.pdb\", \"w\") as f:\n",
    "    f.write(output)\n",
    "\n",
    "print(\"3D structure prediction saved to result.pdb\")\n"
   ]
  },
  {
   "cell_type": "code",
   "execution_count": null,
   "id": "9ecf40da-c178-4ff0-b2fc-800073745954",
   "metadata": {},
   "outputs": [],
   "source": [
    "from nanome.api.structure import Complex\n",
    "import os\n",
    "import time\n",
    "import nglview as nv\n",
    "\n",
    "# PDB file and fpocket results\n",
    "pdb_file = \"test_data/5ceo.pdb\"\n",
    "fpocket_out = 'test_data/5ceo_fpocket_out'\n"
   ]
  },
  {
   "cell_type": "code",
   "execution_count": 92,
   "id": "001827a6-f6fa-437f-b144-01a74b398fcd",
   "metadata": {},
   "outputs": [],
   "source": [
    "# Lets view a particular pocket number in NGLView\n",
    "structure = nv.FileStructure(pdb_file)\n",
    "\n",
    "representations = [\n",
    "    {\"type\": \"cartoon\", \"params\": {\n",
    "        \"sele\": \"protein\", \"color\": \"blue\"\n",
    "    }},\n",
    "    {\"type\": \"ball+stick\", \"params\": {\n",
    "        \"sele\": \"hetero\"\n",
    "    }},\n",
    "]\n",
    "view = nv.NGLWidget(structure, representations=representations)"
   ]
  },
  {
   "cell_type": "code",
   "execution_count": 99,
   "id": "986454c4-22d7-4249-936c-123883cec4f6",
   "metadata": {},
   "outputs": [
    {
     "data": {
      "application/vnd.jupyter.widget-view+json": {
       "model_id": "b5132f185f78464aaf917664c370e0cd",
       "version_major": 2,
       "version_minor": 0
      },
      "text/plain": [
       "NGLWidget(n_components=1)"
      ]
     },
     "metadata": {},
     "output_type": "display_data"
    }
   ],
   "source": [
    "# Lets view a specific pocket number from the output\n",
    "import itertools\n",
    "\n",
    "def view_pocket(view, fpocket_out, pocket_num):\n",
    "    pocket_file = f'{fpocket_out}/pockets/pocket{pocket_num}_atm.pdb'\n",
    "    if not os.path.exists(pocket_file):\n",
    "        print(f\"Pocket {pocket_num} not found\")\n",
    "        return False\n",
    "    pocket_comp = Complex.io.from_pdb(path=pocket_file)\n",
    "    atom_iter = itertools.chain.from_iterable([res.atoms for res in pocket_comp.residues])\n",
    "    pocket_atom_nums = sorted([atom.serial for atom in atom_iter])\n",
    "    view.remove_surface()    \n",
    "    view.add_surface(selection=pocket_atom_nums, color='red')\n",
    "    return True\n",
    "\n",
    "pocket_number = 1\n",
    "view_pocket(view, fpocket_out, pocket_number)\n",
    "view"
   ]
  },
  {
   "cell_type": "code",
   "execution_count": 102,
   "id": "a643d890-d34c-4fd3-91e7-77b6ef61bebb",
   "metadata": {},
   "outputs": [],
   "source": [
    "def cycle_pocket_surfaces(view, fpocket_out: str):\n",
    "    # Clear all other surface representations\n",
    "    i = 1\n",
    "    while True:\n",
    "        view.remove_surface()\n",
    "        pocket_file = f'{fpocket_out}/pockets/pocket{i}_atm.pdb'\n",
    "        if not os.path.exists(pocket_file):\n",
    "            break\n",
    "        success = view_pocket(view, fpocket_out, i)\n",
    "        if not success:\n",
    "            break\n",
    "        # print(f\"Pocket {i}\")\n",
    "        time.sleep(1)\n",
    "        i += 1\n",
    "\n",
    "cycle_pocket_surfaces(view, fpocket_out)"
   ]
  },
  {
   "cell_type": "markdown",
   "id": "3747d19f-47c7-4d1a-9c95-b0bc32278cf3",
   "metadata": {},
   "source": [
    "## Time to load the results into Nanome"
   ]
  },
  {
   "cell_type": "code",
   "execution_count": null,
   "id": "a6757956-19d7-4fda-9f49-74f0ebe73a1c",
   "metadata": {},
   "outputs": [],
   "source": [
    "# Create new Complex in your workspace\n",
    "plugin.send_files_to_load([pdb_file])"
   ]
  },
  {
   "cell_type": "code",
   "execution_count": null,
   "id": "319e4866-7e6f-4af3-b307-46844aeea60a",
   "metadata": {},
   "outputs": [],
   "source": [
    "# Get comp with representation data from workspace\n",
    "comp = plugin.request_workspace().complexes[-1]"
   ]
  },
  {
   "cell_type": "code",
   "execution_count": 103,
   "id": "c5b2291c-e61e-43a0-b08a-1a814b0707e3",
   "metadata": {},
   "outputs": [
    {
     "ename": "NameError",
     "evalue": "name 'comp' is not defined",
     "output_type": "error",
     "traceback": [
      "\u001b[0;31m\u001b[0m",
      "\u001b[0;31mNameError\u001b[0mTraceback (most recent call last)",
      "Cell \u001b[0;32mIn[103], line 19\u001b[0m\n\u001b[1;32m     16\u001b[0m     comp\u001b[38;5;241m.\u001b[39m_surface_dirty \u001b[38;5;241m=\u001b[39m \u001b[38;5;28;01mTrue\u001b[39;00m\n\u001b[1;32m     18\u001b[0m pocket_number \u001b[38;5;241m=\u001b[39m \u001b[38;5;241m1\u001b[39m\n\u001b[0;32m---> 19\u001b[0m render_pocket_surface(\u001b[43mcomp\u001b[49m, fpocket_out, pocket_number)\n\u001b[1;32m     20\u001b[0m plugin\u001b[38;5;241m.\u001b[39mupdate_structures_deep([comp])\n",
      "\u001b[0;31mNameError\u001b[0m: name 'comp' is not defined"
     ]
    }
   ],
   "source": [
    "from nanome.util import Color\n",
    "from nanome.api.structure import Complex\n",
    "\n",
    "def render_pocket_surface(comp, fpocket_out, pocket_num):\n",
    "    pocket_file = f'{fpocket_out}/pockets/pocket{pocket_num}_atm.pdb'\n",
    "    if not os.path.exists(pocket_file):\n",
    "        print(f\"Pocket {pocket_num} not found\")\n",
    "        return False\n",
    "    pocket_comp = Complex.io.from_pdb(path=pocket_file)\n",
    "    pocket_res_nums = sorted([res.serial for res in pocket_comp.residues])\n",
    "    for res in comp.residues:\n",
    "        surface_color = Color.Red() if res.serial in pocket_res_nums else Color.Blue()\n",
    "        for atom in res.atoms:\n",
    "            atom.surface_rendering = True\n",
    "            atom.surface_color = surface_color\n",
    "    comp._surface_dirty = True\n",
    "\n",
    "pocket_number = 1\n",
    "render_pocket_surface(comp, fpocket_out, pocket_number)\n",
    "plugin.update_structures_deep([comp])\n"
   ]
  },
  {
   "cell_type": "code",
   "execution_count": null,
   "id": "0bf91e9b-2b75-47e6-ace2-0e11697fcd8e",
   "metadata": {},
   "outputs": [],
   "source": []
  }
 ],
 "metadata": {
  "kernelspec": {
   "display_name": "Python 3 (ipykernel)",
   "language": "python",
   "name": "python3"
  },
  "language_info": {
   "codemirror_mode": {
    "name": "ipython",
    "version": 3
   },
   "file_extension": ".py",
   "mimetype": "text/x-python",
   "name": "python",
   "nbconvert_exporter": "python",
   "pygments_lexer": "ipython3",
   "version": "3.10.13"
  }
 },
 "nbformat": 4,
 "nbformat_minor": 5
}
